{
 "cells": [
  {
   "cell_type": "code",
   "execution_count": 1,
   "metadata": {},
   "outputs": [
    {
     "data": {
      "text/plain": [
       "'/udd/redmo'"
      ]
     },
     "execution_count": 1,
     "metadata": {},
     "output_type": "execute_result"
    }
   ],
   "source": [
    "import os\n",
    "import numpy as np\n",
    "import pandas as pd\n",
    "import matplotlib.pyplot as plt\n",
    "import glob\n",
    "import seaborn as sns\n",
    "from statsmodels.stats.multitest import fdrcorrection\n",
    "os.getcwd()\n",
    "os.chdir('../')\n",
    "import warnings\n",
    "warnings.filterwarnings('ignore')\n",
    "warnings.simplefilter('ignore')\n",
    "# os.chdir('../proj/regeps/regep00/')#studies/LTRC/data/epigenetic/methylation/TopMed/data/tests/rejpz/LEVEL4')\n",
    "# os.chdir(\"../../../../proj/regeps/regep00/studies/COPDGene/analyses/rebdh/ltrc/\")\n",
    "os.getcwd()"
   ]
  },
  {
   "cell_type": "code",
   "execution_count": null,
   "metadata": {},
   "outputs": [],
   "source": []
  },
  {
   "cell_type": "code",
   "execution_count": 2,
   "metadata": {},
   "outputs": [],
   "source": [
    "noQC=pd.read_table('noQC_milipeed_analysis_15.06.2020.txt',sep='\\t')\n",
    "Qnorm=pd.read_table('Qnorm_milipeed_analysis_15.06.2020.txt',sep='\\t')\n"
   ]
  },
  {
   "cell_type": "code",
   "execution_count": 32,
   "metadata": {},
   "outputs": [
    {
     "data": {
      "text/plain": [
       "array([1.25892541e+00, 5.01187234e+00, 1.99526231e+01, 7.94328235e+01,\n",
       "       3.16227766e+02, 1.25892541e+03, 5.01187234e+03, 1.99526231e+04,\n",
       "       7.94328235e+04, 3.16227766e+05])"
      ]
     },
     "execution_count": 32,
     "metadata": {},
     "output_type": "execute_result"
    }
   ],
   "source": [
    "np.logspace(0.1,5.5,10,base=10)"
   ]
  },
  {
   "cell_type": "code",
   "execution_count": 1,
   "metadata": {},
   "outputs": [],
   "source": [
    "noQC#[np.abs(noQC.gender)<.05]"
   ]
  },
  {
   "cell_type": "code",
   "execution_count": 4,
   "metadata": {},
   "outputs": [],
   "source": [
    "noQC['genderFDR']=(fdrcorrection(noQC.gender,method='negcorr')[1])\n",
    "Qnorm['genderFDR']=(fdrcorrection(Qnorm.gender,method='negcorr')[1])"
   ]
  },
  {
   "cell_type": "code",
   "execution_count": 5,
   "metadata": {},
   "outputs": [
    {
     "data": {
      "text/html": [
       "<div>\n",
       "<style scoped>\n",
       "    .dataframe tbody tr th:only-of-type {\n",
       "        vertical-align: middle;\n",
       "    }\n",
       "\n",
       "    .dataframe tbody tr th {\n",
       "        vertical-align: top;\n",
       "    }\n",
       "\n",
       "    .dataframe thead th {\n",
       "        text-align: right;\n",
       "    }\n",
       "</style>\n",
       "<table border=\"1\" class=\"dataframe\">\n",
       "  <thead>\n",
       "    <tr style=\"text-align: right;\">\n",
       "      <th></th>\n",
       "      <th>Unnamed: 0</th>\n",
       "      <th>Intercept</th>\n",
       "      <th>age_baseline</th>\n",
       "      <th>gender</th>\n",
       "      <th>bmi</th>\n",
       "      <th>pre_fev1fvc</th>\n",
       "      <th>genderFDR</th>\n",
       "    </tr>\n",
       "  </thead>\n",
       "  <tbody>\n",
       "    <tr>\n",
       "      <th>0</th>\n",
       "      <td>_cg09835024coeff</td>\n",
       "      <td>0.382232</td>\n",
       "      <td>-0.001181</td>\n",
       "      <td>0.038603</td>\n",
       "      <td>-0.002017</td>\n",
       "      <td>0.084169</td>\n",
       "      <td>0.743132</td>\n",
       "    </tr>\n",
       "    <tr>\n",
       "      <th>1</th>\n",
       "      <td>_cg09835024pvals</td>\n",
       "      <td>8.200218</td>\n",
       "      <td>-2.193022</td>\n",
       "      <td>3.320978</td>\n",
       "      <td>-2.012675</td>\n",
       "      <td>2.684274</td>\n",
       "      <td>1.000000</td>\n",
       "    </tr>\n",
       "    <tr>\n",
       "      <th>2</th>\n",
       "      <td>_cg14361672coeff</td>\n",
       "      <td>0.346327</td>\n",
       "      <td>0.001205</td>\n",
       "      <td>0.021034</td>\n",
       "      <td>0.001681</td>\n",
       "      <td>-0.044803</td>\n",
       "      <td>0.423569</td>\n",
       "    </tr>\n",
       "    <tr>\n",
       "      <th>3</th>\n",
       "      <td>_cg14361672pvals</td>\n",
       "      <td>6.129262</td>\n",
       "      <td>1.846535</td>\n",
       "      <td>1.492897</td>\n",
       "      <td>1.383477</td>\n",
       "      <td>-1.179365</td>\n",
       "      <td>1.000000</td>\n",
       "    </tr>\n",
       "    <tr>\n",
       "      <th>4</th>\n",
       "      <td>_cg01763666coeff</td>\n",
       "      <td>0.153616</td>\n",
       "      <td>-0.000001</td>\n",
       "      <td>-0.021109</td>\n",
       "      <td>0.002127</td>\n",
       "      <td>0.027244</td>\n",
       "      <td>-1.099349</td>\n",
       "    </tr>\n",
       "    <tr>\n",
       "      <th>...</th>\n",
       "      <td>...</td>\n",
       "      <td>...</td>\n",
       "      <td>...</td>\n",
       "      <td>...</td>\n",
       "      <td>...</td>\n",
       "      <td>...</td>\n",
       "      <td>...</td>\n",
       "    </tr>\n",
       "    <tr>\n",
       "      <th>510131</th>\n",
       "      <td>_cg13131110pvals</td>\n",
       "      <td>14.207099</td>\n",
       "      <td>0.615227</td>\n",
       "      <td>0.100815</td>\n",
       "      <td>-0.430504</td>\n",
       "      <td>0.496252</td>\n",
       "      <td>1.000000</td>\n",
       "    </tr>\n",
       "    <tr>\n",
       "      <th>510132</th>\n",
       "      <td>_cg24863262coeff</td>\n",
       "      <td>0.668306</td>\n",
       "      <td>-0.000300</td>\n",
       "      <td>0.007725</td>\n",
       "      <td>-0.002232</td>\n",
       "      <td>0.034389</td>\n",
       "      <td>0.181733</td>\n",
       "    </tr>\n",
       "    <tr>\n",
       "      <th>510133</th>\n",
       "      <td>_cg24863262pvals</td>\n",
       "      <td>16.360868</td>\n",
       "      <td>-0.635616</td>\n",
       "      <td>0.758364</td>\n",
       "      <td>-2.541084</td>\n",
       "      <td>1.253092</td>\n",
       "      <td>1.000000</td>\n",
       "    </tr>\n",
       "    <tr>\n",
       "      <th>510134</th>\n",
       "      <td>_cg25716013coeff</td>\n",
       "      <td>0.615206</td>\n",
       "      <td>0.000126</td>\n",
       "      <td>-0.009225</td>\n",
       "      <td>0.000050</td>\n",
       "      <td>0.012939</td>\n",
       "      <td>-0.378864</td>\n",
       "    </tr>\n",
       "    <tr>\n",
       "      <th>510135</th>\n",
       "      <td>_cg25716013pvals</td>\n",
       "      <td>16.088892</td>\n",
       "      <td>0.284393</td>\n",
       "      <td>-0.967859</td>\n",
       "      <td>0.060813</td>\n",
       "      <td>0.503317</td>\n",
       "      <td>-130.157829</td>\n",
       "    </tr>\n",
       "  </tbody>\n",
       "</table>\n",
       "<p>510136 rows × 7 columns</p>\n",
       "</div>"
      ],
      "text/plain": [
       "              Unnamed: 0  Intercept  age_baseline    gender       bmi  \\\n",
       "0       _cg09835024coeff   0.382232     -0.001181  0.038603 -0.002017   \n",
       "1       _cg09835024pvals   8.200218     -2.193022  3.320978 -2.012675   \n",
       "2       _cg14361672coeff   0.346327      0.001205  0.021034  0.001681   \n",
       "3       _cg14361672pvals   6.129262      1.846535  1.492897  1.383477   \n",
       "4       _cg01763666coeff   0.153616     -0.000001 -0.021109  0.002127   \n",
       "...                  ...        ...           ...       ...       ...   \n",
       "510131  _cg13131110pvals  14.207099      0.615227  0.100815 -0.430504   \n",
       "510132  _cg24863262coeff   0.668306     -0.000300  0.007725 -0.002232   \n",
       "510133  _cg24863262pvals  16.360868     -0.635616  0.758364 -2.541084   \n",
       "510134  _cg25716013coeff   0.615206      0.000126 -0.009225  0.000050   \n",
       "510135  _cg25716013pvals  16.088892      0.284393 -0.967859  0.060813   \n",
       "\n",
       "        pre_fev1fvc   genderFDR  \n",
       "0          0.084169    0.743132  \n",
       "1          2.684274    1.000000  \n",
       "2         -0.044803    0.423569  \n",
       "3         -1.179365    1.000000  \n",
       "4          0.027244   -1.099349  \n",
       "...             ...         ...  \n",
       "510131     0.496252    1.000000  \n",
       "510132     0.034389    0.181733  \n",
       "510133     1.253092    1.000000  \n",
       "510134     0.012939   -0.378864  \n",
       "510135     0.503317 -130.157829  \n",
       "\n",
       "[510136 rows x 7 columns]"
      ]
     },
     "execution_count": 5,
     "metadata": {},
     "output_type": "execute_result"
    }
   ],
   "source": [
    "Qnorm"
   ]
  },
  {
   "cell_type": "code",
   "execution_count": 6,
   "metadata": {},
   "outputs": [],
   "source": [
    "no_yesQC=noQC.merge(Qnorm,left_on='Unnamed: 0', right_on='Unnamed: 0')"
   ]
  },
  {
   "cell_type": "code",
   "execution_count": 31,
   "metadata": {},
   "outputs": [],
   "source": [
    "NOsex=no_yesQC[np.abs(no_yesQC['genderFDR_x'])<.0005]"
   ]
  },
  {
   "cell_type": "code",
   "execution_count": 32,
   "metadata": {},
   "outputs": [],
   "source": [
    "YESsex=no_yesQC[np.abs(no_yesQC['genderFDR_y'])<.005]"
   ]
  },
  {
   "cell_type": "code",
   "execution_count": 35,
   "metadata": {},
   "outputs": [
    {
     "data": {
      "image/png": "[encoded data removed]",
      "text/plain": [
       "<Figure size 432x288 with 1 Axes>"
      ]
     },
     "metadata": {},
     "output_type": "display_data"
    }
   ],
   "source": [
    "import matplotlib.pyplot as plt\n",
    "from matplotlib_venn import venn2\n",
    "\n",
    "venn2([set(NOsex['Unnamed: 0']),set(YESsex['Unnamed: 0'])],set_labels = ('preQC-gender', 'postQC-gender'))\n",
    "\n",
    "plt.show()\n",
    "# venn2([set(['A', 'B', 'C', 'D']), set(['D', 'E', 'F'])])\n"
   ]
  },
  {
   "cell_type": "code",
   "execution_count": null,
   "metadata": {},
   "outputs": [],
   "source": []
  },
  {
   "cell_type": "code",
   "execution_count": null,
   "metadata": {},
   "outputs": [],
   "source": []
  },
  {
   "cell_type": "code",
   "execution_count": null,
   "metadata": {},
   "outputs": [],
   "source": []
  },
  {
   "cell_type": "code",
   "execution_count": null,
   "metadata": {},
   "outputs": [],
   "source": []
  },
  {
   "cell_type": "code",
   "execution_count": 4,
   "metadata": {},
   "outputs": [],
   "source": [
    "class renamer():\n",
    "    def __init__(self):\n",
    "        self.d = dict()\n",
    "    def __call__(self, x):\n",
    "        if x not in self.d:\n",
    "            self.d[x] = 0\n",
    "            return x\n",
    "        else:\n",
    "            self.d[x] += 1\n",
    "            return \"%s0%d\" % (x, self.d[x])\n",
    "\n",
    "append_data = pd.DataFrame()\n",
    "traces= glob.glob('LTRC_sesame*')\n",
    "for j,trace in enumerate(traces):\n",
    "    LTRC_50=pd.read_table(trace,sep='\\t',header=0, decimal='.')\n",
    "    LTRC_50=pd.DataFrame(LTRC_50.values.reshape(865859,10))\n",
    "    \n",
    "    LTRC_50.columns=10*[trace.split('_')[2].split('.')[0]]\n",
    "#     append_data=pd.concat([append_data,LTRC_50],axis=1)\n",
    "    LTRC_50.to_csv('LTRC_sesame.csv', mode='a', header=False)\n",
    "#     append_data=append_data.dropna(how='any') #try 'all'\n",
    "# append_data.shape\n",
    "# append_data=append_data.rename(columns=renamer())\n",
    "# append_data = append_data.reindex(sorted(append_data.columns), axis=1)"
   ]
  },
  {
   "cell_type": "code",
   "execution_count": null,
   "metadata": {},
   "outputs": [],
   "source": [
    "jj=append_data.dropna()\n",
    "plt.hist(jj)"
   ]
  },
  {
   "cell_type": "code",
   "execution_count": 17,
   "metadata": {},
   "outputs": [
    {
     "data": {
      "text/html": [
       "<div>\n",
       "<style scoped>\n",
       "    .dataframe tbody tr th:only-of-type {\n",
       "        vertical-align: middle;\n",
       "    }\n",
       "\n",
       "    .dataframe tbody tr th {\n",
       "        vertical-align: top;\n",
       "    }\n",
       "\n",
       "    .dataframe thead th {\n",
       "        text-align: right;\n",
       "    }\n",
       "</style>\n",
       "<table border=\"1\" class=\"dataframe\">\n",
       "  <thead>\n",
       "    <tr style=\"text-align: right;\">\n",
       "      <th></th>\n",
       "      <th>361</th>\n",
       "      <th>361</th>\n",
       "      <th>361</th>\n",
       "      <th>361</th>\n",
       "      <th>361</th>\n",
       "      <th>361</th>\n",
       "      <th>361</th>\n",
       "      <th>361</th>\n",
       "      <th>361</th>\n",
       "      <th>361</th>\n",
       "    </tr>\n",
       "  </thead>\n",
       "  <tbody>\n",
       "    <tr>\n",
       "      <th>17</th>\n",
       "      <td>0,700396167817718</td>\n",
       "      <td>0,968953395128237</td>\n",
       "      <td>0,80538797789289</td>\n",
       "      <td>0,771736456638694</td>\n",
       "      <td>0,832648619322281</td>\n",
       "      <td>0,942930572249175</td>\n",
       "      <td>0,77024779709588</td>\n",
       "      <td>0,530428479247791</td>\n",
       "      <td>0,468209882872968</td>\n",
       "      <td>0,0807764719341824</td>\n",
       "    </tr>\n",
       "    <tr>\n",
       "      <th>18</th>\n",
       "      <td>0,650905845691556</td>\n",
       "      <td>0,808677412850904</td>\n",
       "      <td>0,851718057634951</td>\n",
       "      <td>0,417930053523072</td>\n",
       "      <td>0,0700424951708292</td>\n",
       "      <td>0,0307252752787137</td>\n",
       "      <td>0,0499583393631516</td>\n",
       "      <td>0,0185847416678609</td>\n",
       "      <td>0,0632710883400769</td>\n",
       "      <td>0,0182265933089113</td>\n",
       "    </tr>\n",
       "    <tr>\n",
       "      <th>19</th>\n",
       "      <td>0,0325292852066849</td>\n",
       "      <td>0,057320070818447</td>\n",
       "      <td>0,0219118687829662</td>\n",
       "      <td>0,0276963882541081</td>\n",
       "      <td>0,0175332757186775</td>\n",
       "      <td>0,03633108223692</td>\n",
       "      <td>0,026563095121535</td>\n",
       "      <td>0,082515527675823</td>\n",
       "      <td>0,076634615568807</td>\n",
       "      <td>0,717968894936282</td>\n",
       "    </tr>\n",
       "    <tr>\n",
       "      <th>23</th>\n",
       "      <td>0,0579867432797724</td>\n",
       "      <td>0,212216435555401</td>\n",
       "      <td>0,0702710783767078</td>\n",
       "      <td>0,0452683438432964</td>\n",
       "      <td>0,0309474299278976</td>\n",
       "      <td>0,0254934486718721</td>\n",
       "      <td>0,128061179669208</td>\n",
       "      <td>0,0512562854755004</td>\n",
       "      <td>0,958988035490852</td>\n",
       "      <td>0,978620469214467</td>\n",
       "    </tr>\n",
       "    <tr>\n",
       "      <th>24</th>\n",
       "      <td>0,845214194428445</td>\n",
       "      <td>0,815801948396944</td>\n",
       "      <td>0,939005074820499</td>\n",
       "      <td>0,930762557670789</td>\n",
       "      <td>0,884383082057531</td>\n",
       "      <td>0,881212573470936</td>\n",
       "      <td>0,805658136767281</td>\n",
       "      <td>0,876609896784482</td>\n",
       "      <td>0,944172090070649</td>\n",
       "      <td>0,93480615455964</td>\n",
       "    </tr>\n",
       "    <tr>\n",
       "      <th>...</th>\n",
       "      <td>...</td>\n",
       "      <td>...</td>\n",
       "      <td>...</td>\n",
       "      <td>...</td>\n",
       "      <td>...</td>\n",
       "      <td>...</td>\n",
       "      <td>...</td>\n",
       "      <td>...</td>\n",
       "      <td>...</td>\n",
       "      <td>...</td>\n",
       "    </tr>\n",
       "    <tr>\n",
       "      <th>865753</th>\n",
       "      <td>0,0449931411269668</td>\n",
       "      <td>0,0396906983853764</td>\n",
       "      <td>0,115207092305607</td>\n",
       "      <td>0,023485751907631</td>\n",
       "      <td>0,0388988388042346</td>\n",
       "      <td>0,063220157542517</td>\n",
       "      <td>0,0476805264762838</td>\n",
       "      <td>0,0654921329013916</td>\n",
       "      <td>0,0209165022114651</td>\n",
       "      <td>0,0232007090127292</td>\n",
       "    </tr>\n",
       "    <tr>\n",
       "      <th>865763</th>\n",
       "      <td>0,0290259769016331</td>\n",
       "      <td>0,0319844721586766</td>\n",
       "      <td>0,028288364768231</td>\n",
       "      <td>0,044767843152808</td>\n",
       "      <td>0,0232843089090361</td>\n",
       "      <td>0,0169910064127485</td>\n",
       "      <td>0,0198910661338341</td>\n",
       "      <td>0,0199066587372483</td>\n",
       "      <td>0,0966845167489707</td>\n",
       "      <td>0,942815439507805</td>\n",
       "    </tr>\n",
       "    <tr>\n",
       "      <th>865766</th>\n",
       "      <td>0,933295798220776</td>\n",
       "      <td>0,665214012468766</td>\n",
       "      <td>0,980562905266601</td>\n",
       "      <td>0,965201642701528</td>\n",
       "      <td>0,938963702344644</td>\n",
       "      <td>0,950461145009865</td>\n",
       "      <td>0,973387574823638</td>\n",
       "      <td>0,977463841433805</td>\n",
       "      <td>0,955534725266434</td>\n",
       "      <td>0,810355436249413</td>\n",
       "    </tr>\n",
       "    <tr>\n",
       "      <th>865768</th>\n",
       "      <td>0,945828122397022</td>\n",
       "      <td>0,895748787503039</td>\n",
       "      <td>0,0447628176819206</td>\n",
       "      <td>0,0186498473268572</td>\n",
       "      <td>0,0247349450421382</td>\n",
       "      <td>0,0490955707342698</td>\n",
       "      <td>0,0353571432816535</td>\n",
       "      <td>0,0617428819856467</td>\n",
       "      <td>0,035351678314189</td>\n",
       "      <td>0,0402407389446539</td>\n",
       "    </tr>\n",
       "    <tr>\n",
       "      <th>865774</th>\n",
       "      <td>0,315141988781012</td>\n",
       "      <td>0,202944023828652</td>\n",
       "      <td>0,951731514627039</td>\n",
       "      <td>0,941531158616499</td>\n",
       "      <td>0,918982752508727</td>\n",
       "      <td>0,955665732247517</td>\n",
       "      <td>0,950935544477169</td>\n",
       "      <td>0,947947471117745</td>\n",
       "      <td>0,952927569555693</td>\n",
       "      <td>0,0805784765294077</td>\n",
       "    </tr>\n",
       "  </tbody>\n",
       "</table>\n",
       "<p>82797 rows × 10 columns</p>\n",
       "</div>"
      ],
      "text/plain": [
       "                       361                 361                 361  \\\n",
       "17       0,700396167817718   0,968953395128237    0,80538797789289   \n",
       "18       0,650905845691556   0,808677412850904   0,851718057634951   \n",
       "19      0,0325292852066849   0,057320070818447  0,0219118687829662   \n",
       "23      0,0579867432797724   0,212216435555401  0,0702710783767078   \n",
       "24       0,845214194428445   0,815801948396944   0,939005074820499   \n",
       "...                    ...                 ...                 ...   \n",
       "865753  0,0449931411269668  0,0396906983853764   0,115207092305607   \n",
       "865763  0,0290259769016331  0,0319844721586766   0,028288364768231   \n",
       "865766   0,933295798220776   0,665214012468766   0,980562905266601   \n",
       "865768   0,945828122397022   0,895748787503039  0,0447628176819206   \n",
       "865774   0,315141988781012   0,202944023828652   0,951731514627039   \n",
       "\n",
       "                       361                 361                 361  \\\n",
       "17       0,771736456638694   0,832648619322281   0,942930572249175   \n",
       "18       0,417930053523072  0,0700424951708292  0,0307252752787137   \n",
       "19      0,0276963882541081  0,0175332757186775    0,03633108223692   \n",
       "23      0,0452683438432964  0,0309474299278976  0,0254934486718721   \n",
       "24       0,930762557670789   0,884383082057531   0,881212573470936   \n",
       "...                    ...                 ...                 ...   \n",
       "865753   0,023485751907631  0,0388988388042346   0,063220157542517   \n",
       "865763   0,044767843152808  0,0232843089090361  0,0169910064127485   \n",
       "865766   0,965201642701528   0,938963702344644   0,950461145009865   \n",
       "865768  0,0186498473268572  0,0247349450421382  0,0490955707342698   \n",
       "865774   0,941531158616499   0,918982752508727   0,955665732247517   \n",
       "\n",
       "                       361                 361                 361  \\\n",
       "17        0,77024779709588   0,530428479247791   0,468209882872968   \n",
       "18      0,0499583393631516  0,0185847416678609  0,0632710883400769   \n",
       "19       0,026563095121535   0,082515527675823   0,076634615568807   \n",
       "23       0,128061179669208  0,0512562854755004   0,958988035490852   \n",
       "24       0,805658136767281   0,876609896784482   0,944172090070649   \n",
       "...                    ...                 ...                 ...   \n",
       "865753  0,0476805264762838  0,0654921329013916  0,0209165022114651   \n",
       "865763  0,0198910661338341  0,0199066587372483  0,0966845167489707   \n",
       "865766   0,973387574823638   0,977463841433805   0,955534725266434   \n",
       "865768  0,0353571432816535  0,0617428819856467   0,035351678314189   \n",
       "865774   0,950935544477169   0,947947471117745   0,952927569555693   \n",
       "\n",
       "                       361  \n",
       "17      0,0807764719341824  \n",
       "18      0,0182265933089113  \n",
       "19       0,717968894936282  \n",
       "23       0,978620469214467  \n",
       "24        0,93480615455964  \n",
       "...                    ...  \n",
       "865753  0,0232007090127292  \n",
       "865763   0,942815439507805  \n",
       "865766   0,810355436249413  \n",
       "865768  0,0402407389446539  \n",
       "865774  0,0805784765294077  \n",
       "\n",
       "[82797 rows x 10 columns]"
      ]
     },
     "execution_count": 17,
     "metadata": {},
     "output_type": "execute_result"
    }
   ],
   "source": [
    "jj['361'].replace(',', '.')"
   ]
  },
  {
   "cell_type": "code",
   "execution_count": null,
   "metadata": {},
   "outputs": [],
   "source": [
    "meta=pd.read_csv('LTRCbigsheet.txt',sep='\\t')\n",
    "meta"
   ]
  },
  {
   "cell_type": "code",
   "execution_count": 13,
   "metadata": {},
   "outputs": [
    {
     "data": {
      "text/plain": [
       "1592"
      ]
     },
     "execution_count": 13,
     "metadata": {},
     "output_type": "execute_result"
    }
   ],
   "source": [
    "pd.unique(meta.S_SUBJECTID).size"
   ]
  },
  {
   "cell_type": "code",
   "execution_count": 31,
   "metadata": {},
   "outputs": [],
   "source": [
    "methylation_map = pd.read_csv('netZooPy/tests/milipeed/MotifPrior_CGmap.txt', sep='\\t', index_col=2,names=['source','target'])"
   ]
  },
  {
   "cell_type": "code",
   "execution_count": null,
   "metadata": {},
   "outputs": [],
   "source": [
    "mdata=methylation_map.merge(mdata,left_index=True, right_index=True)"
   ]
  },
  {
   "cell_type": "markdown",
   "metadata": {},
   "source": [
    "## tutorials for k-means on SNPs"
   ]
  },
  {
   "cell_type": "code",
   "execution_count": 73,
   "metadata": {},
   "outputs": [],
   "source": [
    "# https://datascience.stackexchange.com/questions/48693/perform-k-means-clustering-over-multiple-columns\n",
    "# https://stackoverflow.com/questions/38372188/how-to-add-k-means-predicted-clusters-in-a-column-to-a-dataframe-in-python"
   ]
  },
  {
   "cell_type": "code",
   "execution_count": null,
   "metadata": {},
   "outputs": [],
   "source": []
  },
  {
   "cell_type": "code",
   "execution_count": 2,
   "metadata": {},
   "outputs": [],
   "source": [
    "# from sklearn.cluster import KMeans\n",
    "# snps2 = pd.read_csv('LTRC_65snp.csv', sep=',')\n",
    "\n",
    "# km = KMeans(n_clusters=5, random_state=1)\n",
    "# new = snps2._get_numeric_data().dropna(axis=1)\n",
    "# km.fit(new)\n",
    "# predict=km.predict(new)\n",
    "# snps2['kmeans'] = pd.Series(predict, index=snps2.index)"
   ]
  },
  {
   "cell_type": "code",
   "execution_count": null,
   "metadata": {},
   "outputs": [],
   "source": [
    "# pval = pd.read_csv('detP.csv', sep='\\t')\n",
    "# _snps = pd.read_csv('LTRC_65snp.csv', sep=',',index_col=0)\n",
    "# data=_snps._get_numeric_data().dropna(axis=1)\n",
    "pheno=pd.read_csv(\"LTRCbigsheet.txt\",sep='\\t')\n",
    "data.columns=pheno['Gender']\n",
    "data=data.transpose()"
   ]
  },
  {
   "cell_type": "code",
   "execution_count": 84,
   "metadata": {},
   "outputs": [],
   "source": [
    "clustering_kmeans = KMeans(n_clusters=2, precompute_distances=\"auto\", n_jobs=-1)\n",
    "data['clusters'] = clustering_kmeans.fit_predict(data._get_numeric_data().dropna(axis=1))"
   ]
  },
  {
   "cell_type": "code",
   "execution_count": 85,
   "metadata": {},
   "outputs": [
    {
     "data": {
      "image/png": "[encoded data removed]",
      "text/plain": [
       "<Figure size 432x288 with 1 Axes>"
      ]
     },
     "metadata": {
      "needs_background": "light"
     },
     "output_type": "display_data"
    }
   ],
   "source": [
    "import pandas as pd\n",
    "import seaborn as sns\n",
    "import matplotlib.pyplot as plt\n",
    "from sklearn.decomposition import PCA\n",
    "from sklearn.cluster import KMeans\n",
    "\n",
    "reduced_data = PCA(n_components=2).fit_transform(data)\n",
    "results = pd.DataFrame(reduced_data,columns=['pca1','pca2'])\n",
    "\n",
    "g=sns.scatterplot(x=\"pca1\", y=\"pca2\", hue=data.index, data=results)\n",
    "plt.title('K-means Clustering with 2 dimensions over 3041 TOE')\n",
    "# g.set(ylim=(-5, 5))\n",
    "# g.set(xlim=(-5, 5))\n",
    "plt.show()"
   ]
  },
  {
   "cell_type": "code",
   "execution_count": null,
   "metadata": {},
   "outputs": [],
   "source": []
  },
  {
   "cell_type": "code",
   "execution_count": null,
   "metadata": {},
   "outputs": [],
   "source": []
  },
  {
   "cell_type": "code",
   "execution_count": 86,
   "metadata": {},
   "outputs": [],
   "source": [
    "_snps = pd.read_csv('LTRC_65snp.csv', sep=',')\n",
    "data=_snps._get_numeric_data().dropna(axis=1)\n",
    "# pheno=pd.read_csv(\"LTRCbigsheet.txt\",sep='\\t')\n",
    "# data.columns=pheno['Gender']\n",
    "# data=data.transpose()\n",
    "clustering_kmeans = KMeans(n_clusters=3, precompute_distances=\"auto\", n_jobs=-1)\n",
    "data['clusters'] = clustering_kmeans.fit_predict(data._get_numeric_data().dropna(axis=1))"
   ]
  },
  {
   "cell_type": "code",
   "execution_count": 88,
   "metadata": {},
   "outputs": [
    {
     "data": {
      "image/png": "[encoded data removed]",
      "text/plain": [
       "<Figure size 432x288 with 1 Axes>"
      ]
     },
     "metadata": {
      "needs_background": "light"
     },
     "output_type": "display_data"
    }
   ],
   "source": [
    "reduced_data = PCA(n_components=3).fit_transform(data)\n",
    "results = pd.DataFrame(reduced_data,columns=['pca1','pca2','pca3'])\n",
    "\n",
    "sns.scatterplot(x=\"pca1\", y=\"pca2\", hue=data['clusters'], data=results)\n",
    "plt.title('K-means Clustering with 2 dimensions over 59 SNPs')\n",
    "# g.set(ylim=(-5, 5))\n",
    "# g.set(xlim=(-5, 5))\n",
    "plt.show()"
   ]
  },
  {
   "cell_type": "code",
   "execution_count": 10,
   "metadata": {},
   "outputs": [
    {
     "name": "stderr",
     "output_type": "stream",
     "text": [
      "/udd/redmo/.conda/envs/mypy3/lib/python3.7/site-packages/ipykernel_launcher.py:1: ParserWarning: Falling back to the 'python' engine because the 'c' engine does not support regex separators (separators > 1 char and different from '\\s+' are interpreted as regex); you can avoid this warning by specifying engine='python'.\n",
      "  \"\"\"Entry point for launching an IPython kernel.\n"
     ]
    }
   ],
   "source": [
    "probes=pd.read_csv('detPmean.csv',sep='/t')"
   ]
  },
  {
   "cell_type": "code",
   "execution_count": 23,
   "metadata": {},
   "outputs": [],
   "source": [
    "pd.DataFrame(probes[probes>.05].dropna()).to_csv('meanDetP005.txt',index=True,header=None)\n"
   ]
  },
  {
   "cell_type": "code",
   "execution_count": 20,
   "metadata": {},
   "outputs": [
    {
     "data": {
      "text/plain": [
       "[]"
      ]
     },
     "execution_count": 20,
     "metadata": {},
     "output_type": "execute_result"
    }
   ],
   "source": [
    "traces=glob.glob('../../proj/regeps/regep00/studies/LTRC/data/epigenetic/methylation/TopMed/data/freezes/20200424/DCC_LEVEL3/*noob_correct.csv')\n",
    "traces\n"
   ]
  },
  {
   "cell_type": "code",
   "execution_count": 19,
   "metadata": {},
   "outputs": [
    {
     "data": {
      "text/plain": [
       "'/udd/redmo'"
      ]
     },
     "execution_count": 19,
     "metadata": {},
     "output_type": "execute_result"
    }
   ],
   "source": [
    "os.getcwd()\n",
    "# os.chdir('../../')"
   ]
  },
  {
   "cell_type": "code",
   "execution_count": 31,
   "metadata": {},
   "outputs": [
    {
     "data": {
      "text/plain": [
       "[]"
      ]
     },
     "execution_count": 31,
     "metadata": {},
     "output_type": "execute_result"
    }
   ],
   "source": [
    "traces=glob.glob('/proj/regeps/regep00/studies/LTRC/data/epigenetic/methylation/TopMed/data/freezes/20200424/DCC_LEVEL3/*noob_correct.csv')\n",
    "\n",
    "gene_subset=[0,10000]\n",
    "traces"
   ]
  },
  {
   "cell_type": "code",
   "execution_count": null,
   "metadata": {},
   "outputs": [],
   "source": [
    "append_data = pd.DataFrame()\n",
    "# data=pd.DataFrame(pd.read_csv(trace,sep='\\t',header=0,index_col=0))\n",
    "\n",
    "# traces= glob.glob(data+'/*')\n",
    "for i,trace in enumerate(traces):\n",
    "#     for j in range(0,data.shape[0],10000):\n",
    "    data=pd.DataFrame(pd.read_csv(trace,sep='\\t',header=0,index_col=0))#,skiprows=j,nrows=(j+10000)-j))\n",
    "    append_data=pd.concat([append_data,data],axis=1)\n",
    "append_data.to_csv('noob_corrected_LEVEL3_LTRC.txt',sep='\\t',index=True,header=True)"
   ]
  },
  {
   "cell_type": "code",
   "execution_count": 51,
   "metadata": {},
   "outputs": [],
   "source": [
    "data=pd.read_csv('noob_corrected_LEVEL3_LTRC.txt',sep='\\t',header=0,index_col=0)#,usecols=[2,10])\n"
   ]
  },
  {
   "cell_type": "code",
   "execution_count": 49,
   "metadata": {},
   "outputs": [
    {
     "data": {
      "text/plain": [
       "(array([], dtype=int64), array([], dtype=int64))"
      ]
     },
     "execution_count": 49,
     "metadata": {},
     "output_type": "execute_result"
    }
   ],
   "source": [
    "np.where(data == 0)"
   ]
  },
  {
   "cell_type": "markdown",
   "metadata": {},
   "source": [
    "# Sex mismatches"
   ]
  },
  {
   "cell_type": "code",
   "execution_count": 7,
   "metadata": {},
   "outputs": [],
   "source": [
    "data=pd.read_csv('data/MotifPipeline/remap/A549_spRE2020.txt',sep='\\t',header=None,index_col=None)"
   ]
  },
  {
   "cell_type": "code",
   "execution_count": 39,
   "metadata": {},
   "outputs": [],
   "source": [
    "data=pd.read_csv('LTRC_sex_ls_2.txt',sep='\\t',header=0,index_col=None)\n",
    "Pdata=pd.read_csv('LTRC_predicted_sex_ls.txt',sep='\\t',header=0,index_col=None)"
   ]
  },
  {
   "cell_type": "code",
   "execution_count": 48,
   "metadata": {},
   "outputs": [
    {
     "data": {
      "text/html": [
       "<div>\n",
       "<style scoped>\n",
       "    .dataframe tbody tr th:only-of-type {\n",
       "        vertical-align: middle;\n",
       "    }\n",
       "\n",
       "    .dataframe tbody tr th {\n",
       "        vertical-align: top;\n",
       "    }\n",
       "\n",
       "    .dataframe thead th {\n",
       "        text-align: right;\n",
       "    }\n",
       "</style>\n",
       "<table border=\"1\" class=\"dataframe\">\n",
       "  <thead>\n",
       "    <tr style=\"text-align: right;\">\n",
       "      <th></th>\n",
       "      <th>predictedSex</th>\n",
       "      <th>sex</th>\n",
       "    </tr>\n",
       "  </thead>\n",
       "  <tbody>\n",
       "    <tr>\n",
       "      <th>0</th>\n",
       "      <td>M</td>\n",
       "      <td>M</td>\n",
       "    </tr>\n",
       "    <tr>\n",
       "      <th>1</th>\n",
       "      <td>F</td>\n",
       "      <td>F</td>\n",
       "    </tr>\n",
       "    <tr>\n",
       "      <th>2</th>\n",
       "      <td>F</td>\n",
       "      <td>F</td>\n",
       "    </tr>\n",
       "    <tr>\n",
       "      <th>3</th>\n",
       "      <td>F</td>\n",
       "      <td>F</td>\n",
       "    </tr>\n",
       "    <tr>\n",
       "      <th>4</th>\n",
       "      <td>M</td>\n",
       "      <td>M</td>\n",
       "    </tr>\n",
       "    <tr>\n",
       "      <th>...</th>\n",
       "      <td>...</td>\n",
       "      <td>...</td>\n",
       "    </tr>\n",
       "    <tr>\n",
       "      <th>3036</th>\n",
       "      <td>F</td>\n",
       "      <td>F</td>\n",
       "    </tr>\n",
       "    <tr>\n",
       "      <th>3037</th>\n",
       "      <td>F</td>\n",
       "      <td>F</td>\n",
       "    </tr>\n",
       "    <tr>\n",
       "      <th>3038</th>\n",
       "      <td>F</td>\n",
       "      <td>F</td>\n",
       "    </tr>\n",
       "    <tr>\n",
       "      <th>3039</th>\n",
       "      <td>F</td>\n",
       "      <td>F</td>\n",
       "    </tr>\n",
       "    <tr>\n",
       "      <th>3040</th>\n",
       "      <td>M</td>\n",
       "      <td>M</td>\n",
       "    </tr>\n",
       "  </tbody>\n",
       "</table>\n",
       "<p>3041 rows × 2 columns</p>\n",
       "</div>"
      ],
      "text/plain": [
       "     predictedSex sex\n",
       "0               M   M\n",
       "1               F   F\n",
       "2               F   F\n",
       "3               F   F\n",
       "4               M   M\n",
       "...           ...  ..\n",
       "3036            F   F\n",
       "3037            F   F\n",
       "3038            F   F\n",
       "3039            F   F\n",
       "3040            M   M\n",
       "\n",
       "[3041 rows x 2 columns]"
      ]
     },
     "execution_count": 48,
     "metadata": {},
     "output_type": "execute_result"
    }
   ],
   "source": [
    "cc=Pdata['predictedSex']\n",
    "dd=data['sex']\n",
    "data=pd.concat([cc,dd],axis=1)\n",
    "data"
   ]
  },
  {
   "cell_type": "code",
   "execution_count": 49,
   "metadata": {},
   "outputs": [
    {
     "data": {
      "text/html": [
       "<div>\n",
       "<style scoped>\n",
       "    .dataframe tbody tr th:only-of-type {\n",
       "        vertical-align: middle;\n",
       "    }\n",
       "\n",
       "    .dataframe tbody tr th {\n",
       "        vertical-align: top;\n",
       "    }\n",
       "\n",
       "    .dataframe thead th {\n",
       "        text-align: right;\n",
       "    }\n",
       "</style>\n",
       "<table border=\"1\" class=\"dataframe\">\n",
       "  <thead>\n",
       "    <tr style=\"text-align: right;\">\n",
       "      <th></th>\n",
       "      <th>TOE</th>\n",
       "      <th>xMed</th>\n",
       "      <th>yMed</th>\n",
       "      <th>predictedSex</th>\n",
       "    </tr>\n",
       "  </thead>\n",
       "  <tbody>\n",
       "    <tr>\n",
       "      <th>366</th>\n",
       "      <td>TOE550733_203299670081_R05C01_329694</td>\n",
       "      <td>14.000406</td>\n",
       "      <td>12.234903</td>\n",
       "      <td>M</td>\n",
       "    </tr>\n",
       "    <tr>\n",
       "      <th>2057</th>\n",
       "      <td>TOE596207_203219760032_R04C01_325248</td>\n",
       "      <td>13.667385</td>\n",
       "      <td>12.219421</td>\n",
       "      <td>M</td>\n",
       "    </tr>\n",
       "    <tr>\n",
       "      <th>2665</th>\n",
       "      <td>TOE428406_203991470121_R07C01_367763</td>\n",
       "      <td>13.775731</td>\n",
       "      <td>8.694199</td>\n",
       "      <td>F</td>\n",
       "    </tr>\n",
       "    <tr>\n",
       "      <th>2907</th>\n",
       "      <td>TOE802043_203866380049_R05C01_367756</td>\n",
       "      <td>13.299029</td>\n",
       "      <td>12.231773</td>\n",
       "      <td>M</td>\n",
       "    </tr>\n",
       "  </tbody>\n",
       "</table>\n",
       "</div>"
      ],
      "text/plain": [
       "                                       TOE       xMed       yMed predictedSex\n",
       "366   TOE550733_203299670081_R05C01_329694  14.000406  12.234903            M\n",
       "2057  TOE596207_203219760032_R04C01_325248  13.667385  12.219421            M\n",
       "2665  TOE428406_203991470121_R07C01_367763  13.775731   8.694199            F\n",
       "2907  TOE802043_203866380049_R05C01_367756  13.299029  12.231773            M"
      ]
     },
     "execution_count": 49,
     "metadata": {},
     "output_type": "execute_result"
    }
   ],
   "source": [
    "Pdata[data['predictedSex']!=data['sex']]"
   ]
  },
  {
   "cell_type": "markdown",
   "metadata": {},
   "source": [
    "# cononcical LTRC pheno"
   ]
  },
  {
   "cell_type": "code",
   "execution_count": 272,
   "metadata": {},
   "outputs": [
    {
     "data": {
      "text/html": [
       "<div>\n",
       "<style scoped>\n",
       "    .dataframe tbody tr th:only-of-type {\n",
       "        vertical-align: middle;\n",
       "    }\n",
       "\n",
       "    .dataframe tbody tr th {\n",
       "        vertical-align: top;\n",
       "    }\n",
       "\n",
       "    .dataframe thead th {\n",
       "        text-align: right;\n",
       "    }\n",
       "</style>\n",
       "<table border=\"1\" class=\"dataframe\">\n",
       "  <thead>\n",
       "    <tr style=\"text-align: right;\">\n",
       "      <th></th>\n",
       "      <th>patid</th>\n",
       "      <th>topmedId</th>\n",
       "      <th>Project</th>\n",
       "    </tr>\n",
       "  </thead>\n",
       "  <tbody>\n",
       "    <tr>\n",
       "      <th>7715</th>\n",
       "      <td>407789</td>\n",
       "      <td>TOE134594</td>\n",
       "      <td>Methylation.lung</td>\n",
       "    </tr>\n",
       "    <tr>\n",
       "      <th>7716</th>\n",
       "      <td>407789</td>\n",
       "      <td>TOR273324</td>\n",
       "      <td>RNASeq</td>\n",
       "    </tr>\n",
       "    <tr>\n",
       "      <th>7717</th>\n",
       "      <td>407789</td>\n",
       "      <td>TOR202431</td>\n",
       "      <td>RNASeq</td>\n",
       "    </tr>\n",
       "    <tr>\n",
       "      <th>7718</th>\n",
       "      <td>407789</td>\n",
       "      <td>TOE191601</td>\n",
       "      <td>Methylation.lung</td>\n",
       "    </tr>\n",
       "    <tr>\n",
       "      <th>7719</th>\n",
       "      <td>407789</td>\n",
       "      <td>TOE246729</td>\n",
       "      <td>Methylation.lung</td>\n",
       "    </tr>\n",
       "    <tr>\n",
       "      <th>7720</th>\n",
       "      <td>407789</td>\n",
       "      <td>TOE462266</td>\n",
       "      <td>Methylation.lung</td>\n",
       "    </tr>\n",
       "    <tr>\n",
       "      <th>7721</th>\n",
       "      <td>407789</td>\n",
       "      <td>TOE576224</td>\n",
       "      <td>Methylation.lung</td>\n",
       "    </tr>\n",
       "    <tr>\n",
       "      <th>7722</th>\n",
       "      <td>407789</td>\n",
       "      <td>NWD399581</td>\n",
       "      <td>WGS</td>\n",
       "    </tr>\n",
       "  </tbody>\n",
       "</table>\n",
       "</div>"
      ],
      "text/plain": [
       "       patid   topmedId           Project\n",
       "7715  407789  TOE134594  Methylation.lung\n",
       "7716  407789  TOR273324            RNASeq\n",
       "7717  407789  TOR202431            RNASeq\n",
       "7718  407789  TOE191601  Methylation.lung\n",
       "7719  407789  TOE246729  Methylation.lung\n",
       "7720  407789  TOE462266  Methylation.lung\n",
       "7721  407789  TOE576224  Methylation.lung\n",
       "7722  407789  NWD399581               WGS"
      ]
     },
     "execution_count": 272,
     "metadata": {},
     "output_type": "execute_result"
    }
   ],
   "source": [
    "pheno=pd.read_table('analyses/LTRC/ltrcSamplePhenoIdMap_20201019.csv',sep=',')\n",
    "\n",
    "# pheno=pheno[pheno['Project']!='WGS']\n",
    "# pheno=pheno[pheno['Project']!='RNASeq']\n",
    "pheno=pheno[['patid','topmedId','Project']]\n",
    "pheno.drop_duplicates(inplace=True)\n",
    "count=pheno.groupby([pheno.patid,pheno.Project],as_index=False).size()\n",
    "\n",
    "pheno[pheno['patid']==407789]"
   ]
  },
  {
   "cell_type": "code",
   "execution_count": 274,
   "metadata": {},
   "outputs": [
    {
     "data": {
      "text/html": [
       "<div>\n",
       "<style scoped>\n",
       "    .dataframe tbody tr th:only-of-type {\n",
       "        vertical-align: middle;\n",
       "    }\n",
       "\n",
       "    .dataframe tbody tr th {\n",
       "        vertical-align: top;\n",
       "    }\n",
       "\n",
       "    .dataframe thead th {\n",
       "        text-align: right;\n",
       "    }\n",
       "</style>\n",
       "<table border=\"1\" class=\"dataframe\">\n",
       "  <thead>\n",
       "    <tr style=\"text-align: right;\">\n",
       "      <th></th>\n",
       "      <th>patid</th>\n",
       "      <th>Project</th>\n",
       "      <th>size</th>\n",
       "    </tr>\n",
       "  </thead>\n",
       "  <tbody>\n",
       "    <tr>\n",
       "      <th>5215</th>\n",
       "      <td>407789</td>\n",
       "      <td>Methylation.lung</td>\n",
       "      <td>5</td>\n",
       "    </tr>\n",
       "    <tr>\n",
       "      <th>5216</th>\n",
       "      <td>407789</td>\n",
       "      <td>RNASeq</td>\n",
       "      <td>2</td>\n",
       "    </tr>\n",
       "    <tr>\n",
       "      <th>5217</th>\n",
       "      <td>407789</td>\n",
       "      <td>WGS</td>\n",
       "      <td>1</td>\n",
       "    </tr>\n",
       "  </tbody>\n",
       "</table>\n",
       "</div>"
      ],
      "text/plain": [
       "       patid           Project  size\n",
       "5215  407789  Methylation.lung     5\n",
       "5216  407789            RNASeq     2\n",
       "5217  407789               WGS     1"
      ]
     },
     "execution_count": 274,
     "metadata": {},
     "output_type": "execute_result"
    }
   ],
   "source": [
    "count[count['patid']==407789]"
   ]
  },
  {
   "cell_type": "code",
   "execution_count": 262,
   "metadata": {},
   "outputs": [
    {
     "data": {
      "text/plain": [
       "[[1316, 1432, 1470, 1500],\n",
       " [30, 103, 65, 90],\n",
       " [0, 60, 13, 2],\n",
       " [0, 5, 0, 0],\n",
       " [0, 1, 0, 0]]"
      ]
     },
     "execution_count": 262,
     "metadata": {},
     "output_type": "execute_result"
    }
   ],
   "source": [
    "[[len(count[(count['size']==1) & (count['Project']==\"Methylation.blood\")]),\n",
    "len(count[(count['size']==1) & (count['Project']==\"Methylation.lung\")]),\n",
    "len(count[(count['size']==1) & (count['Project']==\"RNASeq\")]),\n",
    "len(count[(count['size']==1) & (count['Project']==\"WGS\")])]\n",
    " ,\n",
    " [len(count[(count['size']==2) & (count['Project']==\"Methylation.blood\")]),\n",
    "len(count[(count['size']==2) & (count['Project']==\"Methylation.lung\")]),\n",
    "len(count[(count['size']==2) & (count['Project']==\"RNASeq\")]),\n",
    "len(count[(count['size']==2) & (count['Project']==\"WGS\")])]\n",
    " ,\n",
    " [len(count[(count['size']==3) & (count['Project']==\"Methylation.blood\")]),\n",
    "len(count[(count['size']==3) & (count['Project']==\"Methylation.lung\")]),\n",
    "len(count[(count['size']==3) & (count['Project']==\"RNASeq\")]),\n",
    "len(count[(count['size']==3) & (count['Project']==\"WGS\")])]\n",
    " ,\n",
    " [len(count[(count['size']==4) & (count['Project']==\"Methylation.blood\")]),\n",
    "len(count[(count['size']==4) & (count['Project']==\"Methylation.lung\")]),\n",
    "len(count[(count['size']==4) & (count['Project']==\"RNASeq\")]),\n",
    "len(count[(count['size']==4) & (count['Project']==\"WGS\")])]\n",
    " ,\n",
    " \n",
    " [len(count[(count['size']==5) & (count['Project']==\"Methylation.blood\")]),\n",
    "len(count[(count['size']==5) & (count['Project']==\"Methylation.lung\")]),\n",
    "len(count[(count['size']==5) & (count['Project']==\"RNASeq\")]),\n",
    "len(count[(count['size']==5) & (count['Project']==\"WGS\")])]]\n",
    " "
   ]
  },
  {
   "cell_type": "code",
   "execution_count": 175,
   "metadata": {},
   "outputs": [
    {
     "data": {
      "text/plain": [
       "<AxesSubplot:xlabel='size', ylabel='Count'>"
      ]
     },
     "execution_count": 175,
     "metadata": {},
     "output_type": "execute_result"
    },
    {
     "data": {
      "image/png": "[encoded data removed]",
      "text/plain": [
       "<Figure size 432x288 with 1 Axes>"
      ]
     },
     "metadata": {
      "needs_background": "light"
     },
     "output_type": "display_data"
    }
   ],
   "source": [
    "z=sns.histplot(data=count, x=\"size\", hue=\"Project\",alpha=0.5,multiple=\"dodge\",log_scale=(False,True))"
   ]
  },
  {
   "cell_type": "markdown",
   "metadata": {},
   "source": [
    "# cononcical LTRC pheno + meta"
   ]
  },
  {
   "cell_type": "code",
   "execution_count": 263,
   "metadata": {},
   "outputs": [],
   "source": [
    "pheno=pd.read_table('analyses/LTRC/ltrcSamplePhenoIdMap_20201019.csv',sep=',')\n",
    "# meta_gr = meta.groupby(['patid','age']).agg({'lobe':'mean'})\n",
    "pheno_agr = pheno.groupby(['patid']).agg(' '.join)\n",
    "pd.DataFrame(pheno_agr)\n",
    "methyl_pheno=pheno[pheno['topmedId'].str.contains(pat='TOE')]\n",
    "# methyl_pheno\n",
    "# /proj/regeps/regep00/studies/LTRC/data/epigenetic/methylation/TopMed/data/freezes/20200424/\n",
    "# data_head=pd.read_table('analyses/LTRC/beta_LTRC_header.txt',sep='\\t')\n",
    "data_head=pd.read_table('data/LTRC/LTRC_map4.csv',sep='\\t')\n",
    "# data_head=pd.read_table('resiqBeta3.txt',sep='\\t')\n",
    "\n",
    "\n",
    "TOE=data_head.columns.str.split('_').str[0].tolist()\n",
    "TOE=pd.DataFrame(TOE)\n",
    "TOE['TOE']=TOE[0]"
   ]
  },
  {
   "cell_type": "code",
   "execution_count": 264,
   "metadata": {},
   "outputs": [],
   "source": [
    "# plt.hist(pd.unique(methyl_pheno_sub_lung.patid),bins=100,log=True,label='lung')\n",
    "# plt.hist(pd.unique(methyl_pheno_sub_blood.patid),bins=100,log=True,label='blood')\n",
    "# plt.legend(loc=\"best\")\n",
    "# plt.xlabel(\"patid\")"
   ]
  },
  {
   "cell_type": "code",
   "execution_count": 265,
   "metadata": {},
   "outputs": [],
   "source": [
    "meta=pd.read_table('analyses/LTRC/ltrcLongTopMedHarm_20201019.csv',sep=',')\n"
   ]
  },
  {
   "cell_type": "code",
   "execution_count": 266,
   "metadata": {},
   "outputs": [
    {
     "data": {
      "image/png": "[encoded data removed]",
      "text/plain": [
       "<Figure size 432x288 with 1 Axes>"
      ]
     },
     "metadata": {
      "needs_background": "light"
     },
     "output_type": "display_data"
    }
   ],
   "source": [
    "all_methyl_pheno=pheno.merge(meta,right_on='patid',left_on='patid')\n",
    "# all_methyl_pheno\n",
    "count=all_methyl_pheno.groupby(all_methyl_pheno.patid,as_index=False).size()\n",
    "# wsf=plt.hist(count['size'],bins=120)\n",
    "\n",
    "count2=meta.groupby(meta.patid,as_index=False).size()\n",
    "wsf=plt.hist(count2['size'],bins=120)"
   ]
  },
  {
   "cell_type": "code",
   "execution_count": 206,
   "metadata": {},
   "outputs": [
    {
     "data": {
      "text/plain": [
       "<AxesSubplot:xlabel='wt_kg', ylabel='Count'>"
      ]
     },
     "execution_count": 206,
     "metadata": {},
     "output_type": "execute_result"
    },
    {
     "data": {
      "image/png": "[encoded data removed]",
      "text/plain": [
       "<Figure size 432x288 with 1 Axes>"
      ]
     },
     "metadata": {
      "needs_background": "light"
     },
     "output_type": "display_data"
    }
   ],
   "source": [
    "Blood=all_methyl_pheno[all_methyl_pheno['Project']=='Methylation.blood']\n",
    "Lung=all_methyl_pheno[all_methyl_pheno['Project']=='Methylation.lung']\n",
    "# tmpa=plt.hist(Blood.wt_kg,bins=100)\n",
    "# tmpb=plt.hist(Lung.wt_kg,bins=100)\n",
    "sns.histplot(data=all_methyl_pheno, x=\"wt_kg\", hue=\"Project\",element=\"step\", fill=False)#,log_scale=(False,True))\n",
    "# sns.histplot(data=all_methyl_pheno[all_methyl_pheno['Project']=='Methylation.lung'], x=\"wt_kg\", hue=\"Project\",alpha=0.5,multiple=\"stack\")#,log_scale=(False,True))"
   ]
  },
  {
   "cell_type": "code",
   "execution_count": 207,
   "metadata": {},
   "outputs": [
    {
     "data": {
      "text/plain": [
       "<AxesSubplot:xlabel='post_fet', ylabel='Count'>"
      ]
     },
     "execution_count": 207,
     "metadata": {},
     "output_type": "execute_result"
    },
    {
     "data": {
      "image/png": "[encoded data removed]",
      "text/plain": [
       "<Figure size 432x288 with 1 Axes>"
      ]
     },
     "metadata": {
      "needs_background": "light"
     },
     "output_type": "display_data"
    }
   ],
   "source": [
    "sns.histplot(data=all_methyl_pheno, x=\"post_fet\", hue=\"Project\",element=\"step\", fill=False)"
   ]
  },
  {
   "cell_type": "markdown",
   "metadata": {},
   "source": [
    "# subject phenotypes"
   ]
  },
  {
   "cell_type": "code",
   "execution_count": 48,
   "metadata": {},
   "outputs": [
    {
     "data": {
      "text/html": [
       "<div>\n",
       "<style scoped>\n",
       "    .dataframe tbody tr th:only-of-type {\n",
       "        vertical-align: middle;\n",
       "    }\n",
       "\n",
       "    .dataframe tbody tr th {\n",
       "        vertical-align: top;\n",
       "    }\n",
       "\n",
       "    .dataframe thead th {\n",
       "        text-align: right;\n",
       "    }\n",
       "</style>\n",
       "<table border=\"1\" class=\"dataframe\">\n",
       "  <thead>\n",
       "    <tr style=\"text-align: right;\">\n",
       "      <th></th>\n",
       "      <th></th>\n",
       "      <th></th>\n",
       "      <th>date</th>\n",
       "      <th>date.age</th>\n",
       "      <th>cp2primdx</th>\n",
       "      <th>lobarPrimDx</th>\n",
       "    </tr>\n",
       "    <tr>\n",
       "      <th>patid</th>\n",
       "      <th>age</th>\n",
       "      <th>lobe</th>\n",
       "      <th></th>\n",
       "      <th></th>\n",
       "      <th></th>\n",
       "      <th></th>\n",
       "    </tr>\n",
       "  </thead>\n",
       "  <tbody>\n",
       "    <tr>\n",
       "      <th>11059</th>\n",
       "      <th>66</th>\n",
       "      <th>R_Upper</th>\n",
       "      <td>2017-03-22</td>\n",
       "      <td>2017-03-22</td>\n",
       "      <td>Emphysema, centrilobular</td>\n",
       "      <td>Emphysema - centrilobular</td>\n",
       "    </tr>\n",
       "    <tr>\n",
       "      <th>11061</th>\n",
       "      <th>78</th>\n",
       "      <th>L_Upper</th>\n",
       "      <td>2017-04-11</td>\n",
       "      <td>2017-04-11</td>\n",
       "      <td>Emphysema, centrilobular</td>\n",
       "      <td>Emphysema - centrilobular</td>\n",
       "    </tr>\n",
       "    <tr>\n",
       "      <th>11062</th>\n",
       "      <th>64</th>\n",
       "      <th>L_Lower</th>\n",
       "      <td>2017-04-24</td>\n",
       "      <td>2017-04-24</td>\n",
       "      <td>Normal</td>\n",
       "      <td>Normal</td>\n",
       "    </tr>\n",
       "    <tr>\n",
       "      <th>11063</th>\n",
       "      <th>68</th>\n",
       "      <th>L_Lower</th>\n",
       "      <td>2017-05-12</td>\n",
       "      <td>2017-05-12</td>\n",
       "      <td>Granulomatous Inflammation (NOS)</td>\n",
       "      <td>Granulomatous inflammation (NOS)</td>\n",
       "    </tr>\n",
       "    <tr>\n",
       "      <th>11066</th>\n",
       "      <th>71</th>\n",
       "      <th>L_Ling</th>\n",
       "      <td>2017-08-21</td>\n",
       "      <td>2017-08-21</td>\n",
       "      <td>Emphysema, centrilobular</td>\n",
       "      <td>Emphysema - centrilobular</td>\n",
       "    </tr>\n",
       "    <tr>\n",
       "      <th>...</th>\n",
       "      <th>...</th>\n",
       "      <th>...</th>\n",
       "      <td>...</td>\n",
       "      <td>...</td>\n",
       "      <td>...</td>\n",
       "      <td>...</td>\n",
       "    </tr>\n",
       "    <tr>\n",
       "      <th>803493</th>\n",
       "      <th>69</th>\n",
       "      <th>L_Upper</th>\n",
       "      <td>2014-07-25</td>\n",
       "      <td>2014-07-25</td>\n",
       "      <td>Honeycomb Lung</td>\n",
       "      <td>Usual interstitial pneumonia (UIP)</td>\n",
       "    </tr>\n",
       "    <tr>\n",
       "      <th>803503</th>\n",
       "      <th>60</th>\n",
       "      <th>L_Upper</th>\n",
       "      <td>2014-08-05</td>\n",
       "      <td>2014-08-05</td>\n",
       "      <td>Emphysema, centrilobular</td>\n",
       "      <td>Emphysema - centrilobular</td>\n",
       "    </tr>\n",
       "    <tr>\n",
       "      <th>803520</th>\n",
       "      <th>75</th>\n",
       "      <th>R_Upper</th>\n",
       "      <td>2014-09-02</td>\n",
       "      <td>2014-09-02</td>\n",
       "      <td>Emphysema, centrilobular</td>\n",
       "      <td>Emphysema - centrilobular</td>\n",
       "    </tr>\n",
       "    <tr>\n",
       "      <th>803546</th>\n",
       "      <th>56</th>\n",
       "      <th>R_Upper</th>\n",
       "      <td>2014-08-26</td>\n",
       "      <td>2014-08-26</td>\n",
       "      <td>Emphysema, centrilobular</td>\n",
       "      <td>Emphysema - centrilobular</td>\n",
       "    </tr>\n",
       "    <tr>\n",
       "      <th>803589</th>\n",
       "      <th>78</th>\n",
       "      <th>R_Lower</th>\n",
       "      <td>2014-09-11</td>\n",
       "      <td>2014-09-11</td>\n",
       "      <td>Emphysema, centrilobular</td>\n",
       "      <td>Emphysema - centrilobular</td>\n",
       "    </tr>\n",
       "  </tbody>\n",
       "</table>\n",
       "<p>2816 rows × 4 columns</p>\n",
       "</div>"
      ],
      "text/plain": [
       "                          date    date.age                         cp2primdx  \\\n",
       "patid  age lobe                                                                \n",
       "11059  66  R_Upper  2017-03-22  2017-03-22          Emphysema, centrilobular   \n",
       "11061  78  L_Upper  2017-04-11  2017-04-11          Emphysema, centrilobular   \n",
       "11062  64  L_Lower  2017-04-24  2017-04-24                            Normal   \n",
       "11063  68  L_Lower  2017-05-12  2017-05-12  Granulomatous Inflammation (NOS)   \n",
       "11066  71  L_Ling   2017-08-21  2017-08-21          Emphysema, centrilobular   \n",
       "...                        ...         ...                               ...   \n",
       "803493 69  L_Upper  2014-07-25  2014-07-25                    Honeycomb Lung   \n",
       "803503 60  L_Upper  2014-08-05  2014-08-05          Emphysema, centrilobular   \n",
       "803520 75  R_Upper  2014-09-02  2014-09-02          Emphysema, centrilobular   \n",
       "803546 56  R_Upper  2014-08-26  2014-08-26          Emphysema, centrilobular   \n",
       "803589 78  R_Lower  2014-09-11  2014-09-11          Emphysema, centrilobular   \n",
       "\n",
       "                                           lobarPrimDx  \n",
       "patid  age lobe                                         \n",
       "11059  66  R_Upper           Emphysema - centrilobular  \n",
       "11061  78  L_Upper           Emphysema - centrilobular  \n",
       "11062  64  L_Lower                              Normal  \n",
       "11063  68  L_Lower    Granulomatous inflammation (NOS)  \n",
       "11066  71  L_Ling            Emphysema - centrilobular  \n",
       "...                                                ...  \n",
       "803493 69  L_Upper  Usual interstitial pneumonia (UIP)  \n",
       "803503 60  L_Upper           Emphysema - centrilobular  \n",
       "803520 75  R_Upper           Emphysema - centrilobular  \n",
       "803546 56  R_Upper           Emphysema - centrilobular  \n",
       "803589 78  R_Lower           Emphysema - centrilobular  \n",
       "\n",
       "[2816 rows x 4 columns]"
      ]
     },
     "execution_count": 48,
     "metadata": {},
     "output_type": "execute_result"
    }
   ],
   "source": [
    "methyl_pheno_sub=methyl_pheno.merge(TOE,right_on='TOE',left_on='topmedId')\n",
    "# meta_gr = meta.groupby(['patid','age']).agg({'lobe':'mean'})\n",
    "meta_gr = meta.groupby(['patid','age','lobe']).agg(' '.join)\n",
    "pd.DataFrame(meta_gr)\n",
    "# meta.columns"
   ]
  },
  {
   "cell_type": "code",
   "execution_count": 8,
   "metadata": {},
   "outputs": [],
   "source": [
    "all_methyl_pheno=methyl_pheno_sub.merge(meta,right_on='patid',left_on='patid')"
   ]
  },
  {
   "cell_type": "code",
   "execution_count": 9,
   "metadata": {},
   "outputs": [
    {
     "data": {
      "text/plain": [
       "[1762, 349, 604, 271, 544]"
      ]
     },
     "execution_count": 9,
     "metadata": {},
     "output_type": "execute_result"
    }
   ],
   "source": [
    "methyl_pheno_sub_lung=all_methyl_pheno[all_methyl_pheno['Project'].str.contains(pat='Methylation.lung')]\n",
    "methyl_pheno_sub_lung_case=methyl_pheno_sub_lung[methyl_pheno_sub_lung['clinCopd']==1]\n",
    "MLCaseMale=methyl_pheno_sub_lung_case[methyl_pheno_sub_lung_case['gender']==1]\n",
    "MLCaseFemale=methyl_pheno_sub_lung_case[methyl_pheno_sub_lung_case['gender']==0]\n",
    "\n",
    "methyl_pheno_sub_lung_control=methyl_pheno_sub_lung[methyl_pheno_sub_lung['clinCopd']==0]\n",
    "MLContMale=methyl_pheno_sub_lung_control[methyl_pheno_sub_lung_control['gender']==1]\n",
    "MLContFemale=methyl_pheno_sub_lung_control[methyl_pheno_sub_lung_control['gender']==0]\n",
    "\n",
    "LM=pd.unique(methyl_pheno_sub_lung.topmedId)\n",
    "LCaM=pd.unique(MLCaseMale.topmedId) ## more PatID than topmedID!!\n",
    "LCoM=pd.unique(MLContMale.topmedId)\n",
    "LCaF=pd.unique(MLCaseFemale.topmedId)\n",
    "LCoF=pd.unique(MLContFemale.topmedId)\n",
    "\n",
    "[len(LM),len(LCaM),len(LCoM),len(LCaF),len(LCoF)]\n"
   ]
  },
  {
   "cell_type": "code",
   "execution_count": 10,
   "metadata": {},
   "outputs": [
    {
     "data": {
      "text/plain": [
       "[1279, 180, 489, 179, 432]"
      ]
     },
     "execution_count": 10,
     "metadata": {},
     "output_type": "execute_result"
    }
   ],
   "source": [
    "methyl_pheno_sub_blood=all_methyl_pheno[all_methyl_pheno['Project'].str.contains(pat='Methylation.blood')]\n",
    "methyl_pheno_sub_blood_case=methyl_pheno_sub_blood[methyl_pheno_sub_blood['clinCopd']==1]\n",
    "MBCaseMale=methyl_pheno_sub_blood_case[methyl_pheno_sub_blood_case['gender']==1]\n",
    "MBCaseFemale=methyl_pheno_sub_blood_case[methyl_pheno_sub_blood_case['gender']==0]\n",
    "\n",
    "methyl_pheno_sub_blood_control=methyl_pheno_sub_blood[methyl_pheno_sub_blood['clinCopd']==0]\n",
    "MBContMale=methyl_pheno_sub_blood_control[methyl_pheno_sub_blood_control['gender']==1]\n",
    "MBContFemale=methyl_pheno_sub_blood_control[methyl_pheno_sub_blood_control['gender']==0]\n",
    "\n",
    "BM=pd.unique(methyl_pheno_sub_blood.topmedId)\n",
    "BCaM=pd.unique(MBCaseMale.topmedId)\n",
    "BCoM=pd.unique(MBContMale.topmedId)\n",
    "BCaF=pd.unique(MBCaseFemale.topmedId)\n",
    "BCoF=pd.unique(MBContFemale.topmedId)\n",
    "\n",
    "[len(BM),len(BCaM),len(BCoM),len(BCaF),len(BCoF)]\n",
    "\n"
   ]
  },
  {
   "cell_type": "code",
   "execution_count": 11,
   "metadata": {},
   "outputs": [],
   "source": [
    "# data_head=pd.read_table('analyses/LTRC/beta_LTRC_header.txt',sep='\\t')\n",
    "# TOE=data_head.columns.str.split('_').str[0].tolist()\n",
    "# TOE=pd.DataFrame(TOE)\n",
    "# TOE['TOE']=TOE[0]\n",
    "\n",
    "TOE['index']=TOE.index\n",
    "TOE.index=TOE['TOE']\n",
    "TOE=TOE.T\n",
    "\n",
    "BMi=TOE[BM].T['index'].values.astype(int)\n",
    "BCaMi=TOE[BCaM].T['index'].values.astype(int)\n",
    "BCoMi=TOE[BCoM].T['index'].values.astype(int)\n",
    "BCaFi=TOE[BCaF].T['index'].values.astype(int)\n",
    "BCoFi=TOE[BCoF].T['index'].values.astype(int)\n",
    "\n",
    "LMi=TOE[LM].T['index'].values.astype(int)\n",
    "LCaMi=TOE[LCaM].T['index'].values.astype(int)\n",
    "LCoMi=TOE[LCoM].T['index'].values.astype(int)\n",
    "LCaFi=TOE[LCaF].T['index'].values.astype(int)\n",
    "LCoFi=TOE[LCoF].T['index'].values.astype(int)\n"
   ]
  },
  {
   "cell_type": "code",
   "execution_count": 16,
   "metadata": {},
   "outputs": [],
   "source": [
    "# cc=pd.DataFrame([BMi,BCaMi,BCoMi,BCaFi,BCoFi,LMi,LCaMi,LCoMi,LCaFi,LCoFi])\n",
    "# cc.index=['BMi','BCaMi','BCoMi','BCaFi','BCoFi','LMi','LCaMi','LCoMi','LCaFi','LCoFi']\n",
    "# cc.to_csv('analyses/LTRC/lbk_pheno_index_halloween.txt',sep='\\t',index=True,header=False)\n",
    "\n",
    "dd=pd.DataFrame([BMi])\n",
    "dd.index=['BMi']\n",
    "dd.to_csv('analyses/LTRC/lbk_pheno_index_bidenA.txt',sep='\\t',index=True,header=False)\n",
    "\n",
    "ee=pd.DataFrame([LMi])\n",
    "ee.index=['LMi']\n",
    "ee.to_csv('analyses/LTRC/lbk_pheno_index_bidenB.txt',sep='\\t',index=True,header=False)\n"
   ]
  },
  {
   "cell_type": "markdown",
   "metadata": {},
   "source": [
    "# parse into gender and disease status subpop"
   ]
  },
  {
   "cell_type": "code",
   "execution_count": 13,
   "metadata": {},
   "outputs": [],
   "source": [
    "ind=pd.read_csv('~/analyses/LTRC/lbk_pheno_index_halloween.txt',sep='\\t',index_col=0,header=None)\n",
    "\n",
    "a=ind.T['BMi'].dropna()\n",
    "data=pd.read_csv('data/LTRC/Beta_flagged.csv',sep='\\t',header=0,index_col=None,usecols=a.astype(int))\n",
    "# data.to_csv('data/LTRC/Beta_flagged_BMi.txt',sep='\\t',index=False,header=True)\n",
    "\n",
    "# a=ind.T['BCaMi'].dropna()\n",
    "# data=pd.read_csv('data/LTRC/Beta_flagged.csv',sep='\\t',header=0,index_col=None,usecols=a.astype(int))\n",
    "# data.to_csv('data/LTRC/Beta_flagged_BCaMi.txt',sep='\\t',index=False,header=True)\n",
    "\n",
    "# a=ind.T['BCoMi'].dropna()\n",
    "# data=pd.read_csv('data/LTRC/Beta_flagged.csv',sep='\\t',header=0,index_col=None,usecols=a.astype(int))\n",
    "# data.to_csv('data/LTRC/Beta_flagged_BCoMi.txt',sep='\\t',index=False,header=True)\n",
    "\n",
    "# a=ind.T['BCaFi'].dropna()\n",
    "# data=pd.read_csv('data/LTRC/Beta_flagged.csv',sep='\\t',header=0,index_col=None,usecols=a.astype(int))\n",
    "# data.to_csv('data/LTRC/Beta_flagged_BCaFi.txt',sep='\\t',index=False,header=True)\n",
    "\n",
    "# a=ind.T['BCoFi'].dropna()\n",
    "# data=pd.read_csv('data/LTRC/Beta_flagged.csv',sep='\\t',header=0,index_col=None,usecols=a.astype(int))\n",
    "# data.to_csv('data/LTRC/Beta_flagged_BCoFi.txt',sep='\\t',index=False,header=True)\n",
    "\n",
    "a=ind.T['LMi'].dropna()\n",
    "data=pd.read_csv('data/LTRC/Beta_flagged.csv',sep='\\t',header=0,index_col=None,usecols=a.astype(int))\n",
    "data.to_csv('data/LTRC/Beta_flagged_LMi.txt',sep='\\t',index=False,header=True)\n",
    "\n",
    "# a=ind.T['LCaMi'].dropna()\n",
    "# data=pd.read_csv('data/LTRC/Beta_flagged.csv',sep='\\t',header=0,index_col=None,usecols=a.astype(int))\n",
    "# data.to_csv('data/LTRC/Beta_flagged_LCaMi.txt',sep='\\t',index=False,header=True)\n",
    "\n",
    "# a=ind.T['LCoMi'].dropna()\n",
    "# data=pd.read_csv('data/LTRC/Beta_flagged.csv',sep='\\t',header=0,index_col=None,usecols=a.astype(int))\n",
    "# data.to_csv('data/LTRC/Beta_flagged_LCoMi.txt',sep='\\t',index=False,header=True)\n",
    "\n",
    "# a=ind.T['LCaFi'].dropna()\n",
    "# data=pd.read_csv('data/LTRC/Beta_flagged.csv',sep='\\t',header=0,index_col=None,usecols=a.astype(int))\n",
    "# data.to_csv('data/LTRC/Beta_flagged_LCaFi.txt',sep='\\t',index=False,header=True)\n",
    "\n",
    "# a=ind.T['LCoFi'].dropna()\n",
    "# data=pd.read_csv('data/LTRC/Beta_flagged.csv',sep='\\t',header=0,index_col=None,usecols=a.astype(int))\n",
    "# data.to_csv('data/LTRC/Beta_flagged_LCoFi.txt',sep='\\t',index=False,header=True)\n",
    "\n",
    "\n"
   ]
  },
  {
   "cell_type": "code",
   "execution_count": 34,
   "metadata": {},
   "outputs": [
    {
     "data": {
      "text/html": [
       "<div>\n",
       "<style scoped>\n",
       "    .dataframe tbody tr th:only-of-type {\n",
       "        vertical-align: middle;\n",
       "    }\n",
       "\n",
       "    .dataframe tbody tr th {\n",
       "        vertical-align: top;\n",
       "    }\n",
       "\n",
       "    .dataframe thead th {\n",
       "        text-align: right;\n",
       "    }\n",
       "</style>\n",
       "<table border=\"1\" class=\"dataframe\">\n",
       "  <thead>\n",
       "    <tr style=\"text-align: right;\">\n",
       "      <th></th>\n",
       "      <th>0</th>\n",
       "      <th>TOE</th>\n",
       "      <th>index</th>\n",
       "    </tr>\n",
       "    <tr>\n",
       "      <th>TOE</th>\n",
       "      <th></th>\n",
       "      <th></th>\n",
       "      <th></th>\n",
       "    </tr>\n",
       "  </thead>\n",
       "  <tbody>\n",
       "    <tr>\n",
       "      <th>TOE550733</th>\n",
       "      <td>TOE550733</td>\n",
       "      <td>TOE550733</td>\n",
       "      <td>366</td>\n",
       "    </tr>\n",
       "  </tbody>\n",
       "</table>\n",
       "</div>"
      ],
      "text/plain": [
       "                   0        TOE index\n",
       "TOE                                  \n",
       "TOE550733  TOE550733  TOE550733   366"
      ]
     },
     "execution_count": 34,
     "metadata": {},
     "output_type": "execute_result"
    }
   ],
   "source": [
    "TOE.T[TOE.T['TOE']=='TOE550733']\n",
    "# TOE428406,TOE802043,TOE550733,TOE596207"
   ]
  },
  {
   "cell_type": "markdown",
   "metadata": {},
   "source": [
    "# diff of avg btwn subpop"
   ]
  },
  {
   "cell_type": "code",
   "execution_count": 5,
   "metadata": {},
   "outputs": [],
   "source": [
    "cg=pd.read_csv('data/LTRC/LTRC_cg.txt',sep='\\t',header=0,index_col=None)\n",
    "\n",
    "BCaMi=pd.read_csv('data/LTRC/Beta_flagged_BCaMi.txt',sep='\\t',header=0,index_col=None)\n",
    "BCoMi=pd.read_csv('data/LTRC/Beta_flagged_BCoMi.txt',sep='\\t',header=0,index_col=None)\n",
    "#BM=\n",
    "(BCaMi.mean(axis=1)-BCoMi.mean(axis=1)).to_csv('data/LTRC/BM_BCaMi-BCoMi.txt',sep='\\t',index=False,header=True)\n",
    " \n",
    "BCaFi=pd.read_csv('data/LTRC/Beta_flagged_BCaFi.txt',sep='\\t',header=0,index_col=None)\n",
    "# BD=\n",
    "(BCaMi.mean(axis=1)-BCaFi.mean(axis=1)).to_csv('data/LTRC/BD_BCaMi-BCaFi.txt',sep='\\t',index=False,header=True)\n",
    "\n",
    "BCoFi=pd.read_csv('data/LTRC/Beta_flagged_BCoFi.txt',sep='\\t',header=0,index_col=None)\n",
    "# BND=\n",
    "(BCoMi.mean(axis=1)-BCoFi.mean(axis=1)).to_csv('data/LTRC/BND_BCoMi-BCoFi.txt',sep='\\t',index=False,header=True)\n",
    "# BF=\n",
    "(BCaFi.mean(axis=1)-BCoFi.mean(axis=1)).to_csv('data/LTRC/BF_BCaFi-BCoFi.txt',sep='\\t',index=False,header=True)\n",
    "\n",
    "\n",
    "LCaMi=pd.read_csv('data/LTRC/Beta_flagged_LCaMi.txt',sep='\\t',header=0,index_col=None)\n",
    "LCoMi=pd.read_csv('data/LTRC/Beta_flagged_LCoMi.txt',sep='\\t',header=0,index_col=None)\n",
    "#LM=\n",
    "(LCaMi.mean(axis=1)-LCoMi.mean(axis=1)).to_csv('data/LTRC/LM_LCaMi-LCoMi.txt',sep='\\t',index=False,header=True)\n",
    " \n",
    "LCaFi=pd.read_csv('data/LTRC/Beta_flagged_LCaFi.txt',sep='\\t',header=0,index_col=None)\n",
    "# LD=\n",
    "(LCaMi.mean(axis=1)-LCaFi.mean(axis=1)).to_csv('analyses/LTRC/LD_LCaMi-LCaFi.txt',sep='\\t',index=False,header=True)\n",
    "\n",
    "LCoFi=pd.read_csv('data/LTRC/Beta_flagged_LCoFi.txt',sep='\\t',header=0,index_col=None)\n",
    "# LND=\n",
    "(LCoMi.mean(axis=1)-LCoFi.mean(axis=1)).to_csv('data/LTRC/LND_LCoMi-LCoFi.txt',sep='\\t',index=False,header=True)\n",
    "# LF=\n",
    "(LCaFi.mean(axis=1)-LCoFi.mean(axis=1)).to_csv('data/LTRC/LF_LCaFi-LCoFi.txt',sep='\\t',index=False,header=True)\n"
   ]
  },
  {
   "cell_type": "markdown",
   "metadata": {},
   "source": [
    "# Sex"
   ]
  },
  {
   "cell_type": "code",
   "execution_count": 6,
   "metadata": {},
   "outputs": [
    {
     "data": {
      "text/plain": [
       "Text(0.5, 1.0, 'Diff of Avg between Disease Status')"
      ]
     },
     "execution_count": 6,
     "metadata": {},
     "output_type": "execute_result"
    },
    {
     "data": {
      "image/png": "[encoded data removed]",
      "text/plain": [
       "<Figure size 432x288 with 1 Axes>"
      ]
     },
     "metadata": {
      "needs_background": "light"
     },
     "output_type": "display_data"
    }
   ],
   "source": [
    "cg=pd.read_csv('data/LTRC/LTRC_cg.txt',sep='\\t',header=0,index_col=None)\n",
    "BF=pd.read_csv('data/LTRC/BF_BCaFi-BCoFi.txt',sep='\\t',header=0,index_col=None)\n",
    "BM=pd.read_csv('data/LTRC/BM_BCaMi-BCoMi.txt',sep='\\t',header=0,index_col=None)\n",
    "g=sns.distplot(np.log(BF.values),kde=True,hist=True,rug=False,label='Female Blood')\n",
    "b=sns.distplot(np.log(BM.values),kde=True,hist=True,rug=False,label='Male Blood')\n",
    "\n",
    "LF=pd.read_csv('data/LTRC/LF_LCaFi-LCoFi.txt',sep='\\t',header=0,index_col=None)\n",
    "LM=pd.read_csv('data/LTRC/LM_LCaMi-LCoMi.txt',sep='\\t',header=0,index_col=None)\n",
    "g=sns.distplot(np.log(LF.values),kde=True,hist=True,rug=False,label='Female Lung')\n",
    "b=sns.distplot(np.log(LM.values),kde=True,hist=True,rug=False,label='Male Lung')\n",
    "plt.legend(loc='best')\n",
    "# plt.xlabel('Log Diff')\n",
    "plt.title('Diff of Avg between Disease Status')"
   ]
  },
  {
   "cell_type": "markdown",
   "metadata": {},
   "source": [
    "# Disease"
   ]
  },
  {
   "cell_type": "code",
   "execution_count": 7,
   "metadata": {},
   "outputs": [
    {
     "data": {
      "text/plain": [
       "Text(0.5, 1.0, 'Diff of Avg between Sex')"
      ]
     },
     "execution_count": 7,
     "metadata": {},
     "output_type": "execute_result"
    },
    {
     "data": {
      "image/png": "[encoded data removed]",
      "text/plain": [
       "<Figure size 432x288 with 1 Axes>"
      ]
     },
     "metadata": {
      "needs_background": "light"
     },
     "output_type": "display_data"
    }
   ],
   "source": [
    "# cg=pd.read_csv('data/LTRC/LTRC_cg.txt',sep='\\t',header=0,index_col=None)\n",
    "BD=pd.read_csv('data/LTRC/BD_BCaMi-BCaFi.txt',sep='\\t',header=0,index_col=None)\n",
    "BND=pd.read_csv('data/LTRC/BND_BCoMi-BCoFi.txt',sep='\\t',header=0,index_col=None)\n",
    "g=sns.distplot(np.log(BD.values),kde=True,hist=True,rug=False,label='Disease Blood')\n",
    "b=sns.distplot(np.log(BND.values),kde=True,hist=True,rug=False,label='No Disease Blood')\n",
    "\n",
    "LD=pd.read_csv('data/LTRC/LD_LCaMi-LCaFi.txt',sep='\\t',header=0,index_col=None)\n",
    "LND=pd.read_csv('data/LTRC/LND_LCoMi-LCoFi.txt',sep='\\t',header=0,index_col=None)\n",
    "g=sns.distplot(np.log(LD.values),kde=True,hist=True,rug=False,label='Disease Lung')\n",
    "b=sns.distplot(np.log(LND.values),kde=True,hist=True,rug=False,label='No Disease Lung')\n",
    "plt.legend(loc='best')\n",
    "# plt.xlabel('Log Diff')\n",
    "plt.title('Diff of Avg between Sex')"
   ]
  },
  {
   "cell_type": "code",
   "execution_count": null,
   "metadata": {},
   "outputs": [],
   "source": []
  },
  {
   "cell_type": "code",
   "execution_count": null,
   "metadata": {},
   "outputs": [],
   "source": []
  },
  {
   "cell_type": "markdown",
   "metadata": {},
   "source": [
    "# lung and blood seperately after funnorm"
   ]
  },
  {
   "cell_type": "code",
   "execution_count": 251,
   "metadata": {},
   "outputs": [],
   "source": [
    "# data_head=pd.read_table('data/LTRC/LTRC_map4.csv',sep='\\t')\n",
    "data_head_lung=pd.read_table('data/LTRC/lung_head.txt',sep='\\t')\n",
    "data_head_blood=pd.read_table('data/LTRC/blood_head.txt',sep='\\t')\n",
    "\n",
    "# data_head=pd.read_table('resiqBeta3.txt',sep='\\t')\n",
    "\n",
    "\n",
    "TOEL=data_head_lung.columns.str.split('_').str[0].tolist()\n",
    "TOEL=pd.DataFrame(TOEL)\n",
    "TOEL['TOE']=TOEL[0]\n",
    "\n",
    "TOEB=data_head_blood.columns.str.split('_').str[0].tolist()\n",
    "TOEB=pd.DataFrame(TOEB)\n",
    "TOEB['TOE']=TOEB[0]"
   ]
  },
  {
   "cell_type": "code",
   "execution_count": 212,
   "metadata": {},
   "outputs": [],
   "source": [
    "lung_methyl_pheno_sub=methyl_pheno.merge(TOEL,right_on='TOE',left_on='topmedId')\n",
    "lung_methyl_pheno=lung_methyl_pheno_sub.merge(meta,right_on='patid',left_on='patid')\n",
    "\n",
    "blood_methyl_pheno_sub=methyl_pheno.merge(TOEB,right_on='TOE',left_on='topmedId')\n",
    "blood_methyl_pheno=blood_methyl_pheno_sub.merge(meta,right_on='patid',left_on='patid')"
   ]
  },
  {
   "cell_type": "code",
   "execution_count": 240,
   "metadata": {},
   "outputs": [
    {
     "data": {
      "text/plain": [
       "[1762, 313, 618, 264, 566]"
      ]
     },
     "execution_count": 240,
     "metadata": {},
     "output_type": "execute_result"
    }
   ],
   "source": [
    "# methyl_pheno_sub_lung=lung_methyl_pheno[lung_methyl_pheno['Project'].str.contains(pat='Methylation.lung')]\n",
    "methyl_pheno_sub_lung_case=lung_methyl_pheno[lung_methyl_pheno['clinCopd']==1]\n",
    "MLCaseMale=methyl_pheno_sub_lung_case[methyl_pheno_sub_lung_case['gender']==1]\n",
    "MLCaseFemale=methyl_pheno_sub_lung_case[methyl_pheno_sub_lung_case['gender']==0]\n",
    "\n",
    "methyl_pheno_sub_lung_control=lung_methyl_pheno[lung_methyl_pheno['clinCopd']==0]\n",
    "MLContMale=methyl_pheno_sub_lung_control[methyl_pheno_sub_lung_control['gender']==1]\n",
    "MLContFemale=methyl_pheno_sub_lung_control[methyl_pheno_sub_lung_control['gender']==0]\n",
    "\n",
    "# LM=pd.unique(methyl_pheno_sub_lung.topmedId)\n",
    "LCaM=pd.unique(MLCaseMale.topmedId) ## more PatID than topmedID!!\n",
    "LCoM=pd.unique(MLContMale.topmedId)\n",
    "LCaF=pd.unique(MLCaseFemale.topmedId)\n",
    "LCoF=pd.unique(MLContFemale.topmedId)\n",
    "\n",
    "[len(LM),len(LCaM),len(LCoM),len(LCaF),len(LCoF)]\n"
   ]
  },
  {
   "cell_type": "code",
   "execution_count": 241,
   "metadata": {},
   "outputs": [
    {
     "data": {
      "text/plain": [
       "[1279, 215, 472, 186, 409]"
      ]
     },
     "execution_count": 241,
     "metadata": {},
     "output_type": "execute_result"
    }
   ],
   "source": [
    "# methyl_pheno_sub_blood=all_methyl_pheno[all_methyl_pheno['Project'].str.contains(pat='Methylation.blood')]\n",
    "methyl_pheno_sub_blood_case=blood_methyl_pheno[blood_methyl_pheno['clinCopd']==1]\n",
    "MBCaseMale=methyl_pheno_sub_blood_case[methyl_pheno_sub_blood_case['gender']==1]\n",
    "MBCaseFemale=methyl_pheno_sub_blood_case[methyl_pheno_sub_blood_case['gender']==0]\n",
    "\n",
    "methyl_pheno_sub_blood_control=blood_methyl_pheno[blood_methyl_pheno['clinCopd']==0]\n",
    "MBContMale=methyl_pheno_sub_blood_control[methyl_pheno_sub_blood_control['gender']==1]\n",
    "MBContFemale=methyl_pheno_sub_blood_control[methyl_pheno_sub_blood_control['gender']==0]\n",
    "\n",
    "# BM=pd.unique(methyl_pheno_sub_blood.topmedId)\n",
    "BCaM=pd.unique(MBCaseMale.topmedId)\n",
    "BCoM=pd.unique(MBContMale.topmedId)\n",
    "BCaF=pd.unique(MBCaseFemale.topmedId)\n",
    "BCoF=pd.unique(MBContFemale.topmedId)\n",
    "\n",
    "[len(BM),len(BCaM),len(BCoM),len(BCaF),len(BCoF)]\n",
    "\n"
   ]
  },
  {
   "cell_type": "code",
   "execution_count": 252,
   "metadata": {},
   "outputs": [],
   "source": [
    "# data_head=pd.read_table('analyses/LTRC/beta_LTRC_header.txt',sep='\\t')\n",
    "# TOE=data_head.columns.str.split('_').str[0].tolist()\n",
    "# TOE=pd.DataFrame(TOE)\n",
    "# TOE['TOE']=TOE[0]\n",
    "\n",
    "TOEL['index2']=TOEL.index\n",
    "TOEL.index=TOEL['TOE']\n",
    "TOEL=TOEL.T\n",
    "\n",
    "# LMi=TOEL[LM].T['index'].values.astype(int)\n",
    "LCaMi=TOEL[LCaM].T['index2'].values.astype(int)\n",
    "LCoMi=TOEL[LCoM].T['index2'].values.astype(int)\n",
    "LCaFi=TOEL[LCaF].T['index2'].values.astype(int)\n",
    "LCoFi=TOEL[LCoF].T['index2'].values.astype(int)\n",
    "\n",
    "TOEB['index2']=TOEB.index\n",
    "TOEB.index=TOEB['TOE']\n",
    "TOEB=TOEB.T\n",
    "\n",
    "\n",
    "# BMi=TOEB[BM].T['index'].values.astype(int)\n",
    "BCaMi=TOEB[BCaM].T['index2'].values.astype(int)\n",
    "BCoMi=TOEB[BCoM].T['index2'].values.astype(int)\n",
    "BCaFi=TOEB[BCaF].T['index2'].values.astype(int)\n",
    "BCoFi=TOEB[BCoF].T['index2'].values.astype(int)\n",
    "\n",
    "\n",
    "\n",
    "cc=pd.DataFrame([BMi,BCaMi,BCoMi,BCaFi,BCoFi])\n",
    "cc.index=['BMi','BCaMi','BCoMi','BCaFi','BCoFi']\n",
    "cc.to_csv('analyses/LTRC/lbk_pheno_index_etna_blood.txt',sep='\\t',index=True,header=False)\n",
    "\n",
    "dd=pd.DataFrame([LMi,LCaMi,LCoMi,LCaFi,LCoFi])\n",
    "dd.index=['LMi','LCaMi','LCoMi','LCaFi','LCoFi']\n",
    "dd.to_csv('analyses/LTRC/lbk_pheno_index_etna_lung.txt',sep='\\t',index=True,header=False)"
   ]
  },
  {
   "cell_type": "code",
   "execution_count": 253,
   "metadata": {},
   "outputs": [],
   "source": [
    "blood_ind=pd.read_csv('~/analyses/LTRC/lbk_pheno_index_etna_blood.txt',sep='\\t',index_col=0,header=None)\n",
    "\n",
    "# a=ind.T['BMi'].dropna()\n",
    "# data=pd.read_csv('data/LTRC/Beta_flagged.csv',sep='\\t',header=0,index_col=None,usecols=a.astype(int))\n",
    "# data.to_csv('data/LTRC/Beta_flagged_BMi.txt',sep='\\t',index=False,header=True)\n",
    "\n",
    "a=blood_ind.T['BCaMi'].dropna()\n",
    "data=pd.read_csv('data/LTRC/bLTRC_b_funnorm_lbk.txt',sep='\\t',header=0,index_col=None,usecols=a.astype(int))\n",
    "data.to_csv('data/LTRC/Beta_flagged_BCaMi.txt',sep='\\t',index=False,header=True)\n",
    "\n",
    "a=blood_ind.T['BCoMi'].dropna()\n",
    "data=pd.read_csv('data/LTRC/bLTRC_b_funnorm_lbk.txt',sep='\\t',header=0,index_col=None,usecols=a.astype(int))\n",
    "data.to_csv('data/LTRC/Beta_flagged_BCoMi.txt',sep='\\t',index=False,header=True)\n",
    "\n",
    "a=blood_ind.T['BCaFi'].dropna()\n",
    "data=pd.read_csv('data/LTRC/bLTRC_b_funnorm_lbk.txt',sep='\\t',header=0,index_col=None,usecols=a.astype(int))\n",
    "data.to_csv('data/LTRC/Beta_flagged_BCaFi.txt',sep='\\t',index=False,header=True)\n",
    "\n",
    "a=blood_ind.T['BCoFi'].dropna()\n",
    "data=pd.read_csv('data/LTRC/bLTRC_b_funnorm_lbk.txt',sep='\\t',header=0,index_col=None,usecols=a.astype(int))\n",
    "data.to_csv('data/LTRC/Beta_flagged_BCoFi.txt',sep='\\t',index=False,header=True)\n",
    "\n",
    "lung_ind=pd.read_csv('~/analyses/LTRC/lbk_pheno_index_etna_lung.txt',sep='\\t',index_col=0,header=None)\n",
    "\n",
    "# a=ind.T['LMi'].dropna()\n",
    "# data=pd.read_csv('data/LTRC/Beta_flagged.csv',sep='\\t',header=0,index_col=None,usecols=a.astype(int))\n",
    "# data.to_csv('data/LTRC/Beta_flagged_LMi.txt',sep='\\t',index=False,header=True)\n",
    "\n",
    "a=lung_ind.T['LCaMi'].dropna()\n",
    "data=pd.read_csv('data/LTRC/lLTRC_b_funnorm_lbk.txt',sep='\\t',header=0,index_col=None,usecols=a.astype(int))\n",
    "data.to_csv('data/LTRC/Beta_flagged_LCaMi.txt',sep='\\t',index=False,header=True)\n",
    "\n",
    "a=lung_ind.T['LCoMi'].dropna()\n",
    "data=pd.read_csv('data/LTRC/lLTRC_b_funnorm_lbk.txt',sep='\\t',header=0,index_col=None,usecols=a.astype(int))\n",
    "data.to_csv('data/LTRC/Beta_flagged_LCoMi.txt',sep='\\t',index=False,header=True)\n",
    "\n",
    "a=lung_ind.T['LCaFi'].dropna()\n",
    "data=pd.read_csv('data/LTRC/lLTRC_b_funnorm_lbk.txt',sep='\\t',header=0,index_col=None,usecols=a.astype(int))\n",
    "data.to_csv('data/LTRC/Beta_flagged_LCaFi.txt',sep='\\t',index=False,header=True)\n",
    "\n",
    "a=lung_ind.T['LCoFi'].dropna()\n",
    "data=pd.read_csv('data/LTRC/lLTRC_b_funnorm_lbk.txt',sep='\\t',header=0,index_col=None,usecols=a.astype(int))\n",
    "data.to_csv('data/LTRC/Beta_flagged_LCoFi.txt',sep='\\t',index=False,header=True)\n",
    "\n",
    "\n"
   ]
  },
  {
   "cell_type": "code",
   "execution_count": 277,
   "metadata": {},
   "outputs": [],
   "source": [
    "cg=pd.read_csv('data/LTRC/LTRC_cg.txt',sep='\\t',header=0,index_col=None)\n",
    "\n",
    "BCaMi=pd.read_csv('data/LTRC/Beta_flagged_BCaMi.txt',sep='\\t',header=0,index_col=None)\n",
    "BCoMi=pd.read_csv('data/LTRC/Beta_flagged_BCoMi.txt',sep='\\t',header=0,index_col=None)\n",
    "#BM=\n",
    "# (BCaMi.mean(axis=1)-BCoMi.mean(axis=1)).to_csv('data/LTRC/BM_BCaMi-BCoMi.txt',sep='\\t',index=False,header=True)\n",
    " \n",
    "BCaFi=pd.read_csv('data/LTRC/Beta_flagged_BCaFi.txt',sep='\\t',header=0,index_col=None)\n",
    "# BD=\n",
    "# (BCaMi.mean(axis=1)-BCaFi.mean(axis=1)).to_csv('data/LTRC/BD_BCaMi-BCaFi.txt',sep='\\t',index=False,header=True)\n",
    "\n",
    "BCoFi=pd.read_csv('data/LTRC/Beta_flagged_BCoFi.txt',sep='\\t',header=0,index_col=None)\n",
    "# BND=\n",
    "# (BCoMi.mean(axis=1)-BCoFi.mean(axis=1)).to_csv('data/LTRC/BND_BCoMi-BCoFi.txt',sep='\\t',index=False,header=True)\n",
    "# # BF=\n",
    "# (BCaFi.mean(axis=1)-BCoFi.mean(axis=1)).to_csv('data/LTRC/BF_BCaFi-BCoFi.txt',sep='\\t',index=False,header=True)\n",
    "\n",
    "\n",
    "LCaMi=pd.read_csv('data/LTRC/Beta_flagged_LCaMi.txt',sep='\\t',header=0,index_col=None)\n",
    "LCoMi=pd.read_csv('data/LTRC/Beta_flagged_LCoMi.txt',sep='\\t',header=0,index_col=None)\n",
    "#LM=\n",
    "# (LCaMi.mean(axis=1)-LCoMi.mean(axis=1)).to_csv('data/LTRC/LM_LCaMi-LCoMi.txt',sep='\\t',index=False,header=True)\n",
    " \n",
    "LCaFi=pd.read_csv('data/LTRC/Beta_flagged_LCaFi.txt',sep='\\t',header=0,index_col=None)\n",
    "# LD=\n",
    "# (LCaMi.mean(axis=1)-LCaFi.mean(axis=1)).to_csv('analyses/LTRC/LD_LCaMi-LCaFi.txt',sep='\\t',index=False,header=True)\n",
    "\n",
    "LCoFi=pd.read_csv('data/LTRC/Beta_flagged_LCoFi.txt',sep='\\t',header=0,index_col=None)\n",
    "# LND=\n",
    "# (LCoMi.mean(axis=1)-LCoFi.mean(axis=1)).to_csv('data/LTRC/LND_LCoMi-LCoFi.txt',sep='\\t',index=False,header=True)\n",
    "# # LF=\n",
    "# (LCaFi.mean(axis=1)-LCoFi.mean(axis=1)).to_csv('data/LTRC/LF_LCaFi-LCoFi.txt',sep='\\t',index=False,header=True)\n"
   ]
  },
  {
   "cell_type": "code",
   "execution_count": 280,
   "metadata": {},
   "outputs": [
    {
     "data": {
      "text/plain": [
       "[[215, 472, 186, 409], [313, 618, 264, 566]]"
      ]
     },
     "execution_count": 280,
     "metadata": {},
     "output_type": "execute_result"
    }
   ],
   "source": [
    "[[BCaMi.shape[1],BCoMi.shape[1],BCaFi.shape[1],BCoFi.shape[1]],\n",
    "[LCaMi.shape[1],LCoMi.shape[1],LCaFi.shape[1],LCoFi.shape[1]]]"
   ]
  },
  {
   "cell_type": "code",
   "execution_count": 257,
   "metadata": {},
   "outputs": [
    {
     "data": {
      "text/plain": [
       "Text(0.5, 1.0, 'Diff of Avg between Disease Status')"
      ]
     },
     "execution_count": 257,
     "metadata": {},
     "output_type": "execute_result"
    },
    {
     "data": {
      "image/png": "[encoded data removed]",
      "text/plain": [
       "<Figure size 432x288 with 1 Axes>"
      ]
     },
     "metadata": {
      "needs_background": "light"
     },
     "output_type": "display_data"
    }
   ],
   "source": [
    "cg=pd.read_csv('data/LTRC/LTRC_cg.txt',sep='\\t',header=0,index_col=None)\n",
    "BF=pd.read_csv('data/LTRC/BF_BCaFi-BCoFi.txt',sep='\\t',header=0,index_col=None)\n",
    "BM=pd.read_csv('data/LTRC/BM_BCaMi-BCoMi.txt',sep='\\t',header=0,index_col=None)\n",
    "g=sns.distplot(np.log(BF.values),kde=True,hist=True,rug=False,label='Female Blood')\n",
    "b=sns.distplot(np.log(BM.values),kde=True,hist=True,rug=False,label='Male Blood')\n",
    "\n",
    "LF=pd.read_csv('data/LTRC/LF_LCaFi-LCoFi.txt',sep='\\t',header=0,index_col=None)\n",
    "LM=pd.read_csv('data/LTRC/LM_LCaMi-LCoMi.txt',sep='\\t',header=0,index_col=None)\n",
    "g=sns.distplot(np.log(LF.values),kde=True,hist=True,rug=False,label='Female Lung')\n",
    "b=sns.distplot(np.log(LM.values),kde=True,hist=True,rug=False,label='Male Lung')\n",
    "plt.legend(loc='best')\n",
    "# plt.xlabel('Log Diff')\n",
    "plt.title('Diff of Avg between Disease Status')"
   ]
  },
  {
   "cell_type": "code",
   "execution_count": 258,
   "metadata": {},
   "outputs": [
    {
     "data": {
      "text/plain": [
       "Text(0.5, 1.0, 'Diff of Avg between Sex')"
      ]
     },
     "execution_count": 258,
     "metadata": {},
     "output_type": "execute_result"
    },
    {
     "data": {
      "image/png": "[encoded data removed]",
      "text/plain": [
       "<Figure size 432x288 with 1 Axes>"
      ]
     },
     "metadata": {
      "needs_background": "light"
     },
     "output_type": "display_data"
    }
   ],
   "source": [
    "# cg=pd.read_csv('data/LTRC/LTRC_cg.txt',sep='\\t',header=0,index_col=None)\n",
    "BD=pd.read_csv('data/LTRC/BD_BCaMi-BCaFi.txt',sep='\\t',header=0,index_col=None)\n",
    "BND=pd.read_csv('data/LTRC/BND_BCoMi-BCoFi.txt',sep='\\t',header=0,index_col=None)\n",
    "g=sns.distplot(np.log(BD.values),kde=True,hist=True,rug=False,label='Disease Blood')\n",
    "b=sns.distplot(np.log(BND.values),kde=True,hist=True,rug=False,label='No Disease Blood')\n",
    "\n",
    "LD=pd.read_csv('data/LTRC/LD_LCaMi-LCaFi.txt',sep='\\t',header=0,index_col=None)\n",
    "LND=pd.read_csv('data/LTRC/LND_LCoMi-LCoFi.txt',sep='\\t',header=0,index_col=None)\n",
    "g=sns.distplot(np.log(LD.values),kde=True,hist=True,rug=False,label='Disease Lung')\n",
    "b=sns.distplot(np.log(LND.values),kde=True,hist=True,rug=False,label='No Disease Lung')\n",
    "plt.legend(loc='best')\n",
    "# plt.xlabel('Log Diff')\n",
    "plt.title('Diff of Avg between Sex')"
   ]
  },
  {
   "cell_type": "code",
   "execution_count": null,
   "metadata": {},
   "outputs": [],
   "source": []
  }
 ],
 "metadata": {
  "kernelspec": {
   "display_name": "MyEnv3",
   "language": "python",
   "name": "myenv3"
  },
  "language_info": {
   "codemirror_mode": {
    "name": "ipython",
    "version": 3
   },
   "file_extension": ".py",
   "mimetype": "text/x-python",
   "name": "python",
   "nbconvert_exporter": "python",
   "pygments_lexer": "ipython3",
   "version": "3.7.9"
  }
 },
 "nbformat": 4,
 "nbformat_minor": 2
}
