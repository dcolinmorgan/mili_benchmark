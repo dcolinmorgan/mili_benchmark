{
 "cells": [
  {
   "cell_type": "code",
   "execution_count": 547,
   "metadata": {},
   "outputs": [
    {
     "data": {
      "text/plain": [
       "'/udd/redmo'"
      ]
     },
     "execution_count": 547,
     "metadata": {},
     "output_type": "execute_result"
    }
   ],
   "source": [
    "import os\n",
    "import numpy as np\n",
    "import pandas as pd\n",
    "import matplotlib.pyplot as plt\n",
    "import glob\n",
    "import seaborn as sns\n",
    "from statsmodels.stats.multitest import fdrcorrection\n",
    "os.getcwd()\n",
    "os.chdir('../../')\n",
    "import warnings\n",
    "warnings.filterwarnings('ignore')\n",
    "warnings.simplefilter('ignore')\n",
    "# os.chdir('../proj/regeps/regep00/')#studies/LTRC/data/epigenetic/methylation/TopMed/data/tests/rejpz/LEVEL4')\n",
    "# os.chdir(\"../../../../proj/regeps/regep00/studies/COPDGene/analyses/rebdh/ltrc/\")\n",
    "os.getcwd()"
   ]
  },
  {
   "cell_type": "code",
   "execution_count": null,
   "metadata": {},
   "outputs": [],
   "source": []
  },
  {
   "cell_type": "code",
   "execution_count": 2,
   "metadata": {},
   "outputs": [],
   "source": [
    "noQC=pd.read_table('noQC_milipeed_analysis_15.06.2020.txt',sep='\\t')\n",
    "Qnorm=pd.read_table('Qnorm_milipeed_analysis_15.06.2020.txt',sep='\\t')\n"
   ]
  },
  {
   "cell_type": "code",
   "execution_count": 32,
   "metadata": {},
   "outputs": [
    {
     "data": {
      "text/plain": [
       "array([1.25892541e+00, 5.01187234e+00, 1.99526231e+01, 7.94328235e+01,\n",
       "       3.16227766e+02, 1.25892541e+03, 5.01187234e+03, 1.99526231e+04,\n",
       "       7.94328235e+04, 3.16227766e+05])"
      ]
     },
     "execution_count": 32,
     "metadata": {},
     "output_type": "execute_result"
    }
   ],
   "source": [
    "np.logspace(0.1,5.5,10,base=10)"
   ]
  },
  {
   "cell_type": "code",
   "execution_count": 1,
   "metadata": {},
   "outputs": [],
   "source": [
    "noQC#[np.abs(noQC.gender)<.05]"
   ]
  },
  {
   "cell_type": "code",
   "execution_count": 4,
   "metadata": {},
   "outputs": [],
   "source": [
    "noQC['genderFDR']=(fdrcorrection(noQC.gender,method='negcorr')[1])\n",
    "Qnorm['genderFDR']=(fdrcorrection(Qnorm.gender,method='negcorr')[1])"
   ]
  },
  {
   "cell_type": "code",
   "execution_count": 5,
   "metadata": {},
   "outputs": [
    {
     "data": {
      "text/html": [
       "<div>\n",
       "<style scoped>\n",
       "    .dataframe tbody tr th:only-of-type {\n",
       "        vertical-align: middle;\n",
       "    }\n",
       "\n",
       "    .dataframe tbody tr th {\n",
       "        vertical-align: top;\n",
       "    }\n",
       "\n",
       "    .dataframe thead th {\n",
       "        text-align: right;\n",
       "    }\n",
       "</style>\n",
       "<table border=\"1\" class=\"dataframe\">\n",
       "  <thead>\n",
       "    <tr style=\"text-align: right;\">\n",
       "      <th></th>\n",
       "      <th>Unnamed: 0</th>\n",
       "      <th>Intercept</th>\n",
       "      <th>age_baseline</th>\n",
       "      <th>gender</th>\n",
       "      <th>bmi</th>\n",
       "      <th>pre_fev1fvc</th>\n",
       "      <th>genderFDR</th>\n",
       "    </tr>\n",
       "  </thead>\n",
       "  <tbody>\n",
       "    <tr>\n",
       "      <th>0</th>\n",
       "      <td>_cg09835024coeff</td>\n",
       "      <td>0.382232</td>\n",
       "      <td>-0.001181</td>\n",
       "      <td>0.038603</td>\n",
       "      <td>-0.002017</td>\n",
       "      <td>0.084169</td>\n",
       "      <td>0.743132</td>\n",
       "    </tr>\n",
       "    <tr>\n",
       "      <th>1</th>\n",
       "      <td>_cg09835024pvals</td>\n",
       "      <td>8.200218</td>\n",
       "      <td>-2.193022</td>\n",
       "      <td>3.320978</td>\n",
       "      <td>-2.012675</td>\n",
       "      <td>2.684274</td>\n",
       "      <td>1.000000</td>\n",
       "    </tr>\n",
       "    <tr>\n",
       "      <th>2</th>\n",
       "      <td>_cg14361672coeff</td>\n",
       "      <td>0.346327</td>\n",
       "      <td>0.001205</td>\n",
       "      <td>0.021034</td>\n",
       "      <td>0.001681</td>\n",
       "      <td>-0.044803</td>\n",
       "      <td>0.423569</td>\n",
       "    </tr>\n",
       "    <tr>\n",
       "      <th>3</th>\n",
       "      <td>_cg14361672pvals</td>\n",
       "      <td>6.129262</td>\n",
       "      <td>1.846535</td>\n",
       "      <td>1.492897</td>\n",
       "      <td>1.383477</td>\n",
       "      <td>-1.179365</td>\n",
       "      <td>1.000000</td>\n",
       "    </tr>\n",
       "    <tr>\n",
       "      <th>4</th>\n",
       "      <td>_cg01763666coeff</td>\n",
       "      <td>0.153616</td>\n",
       "      <td>-0.000001</td>\n",
       "      <td>-0.021109</td>\n",
       "      <td>0.002127</td>\n",
       "      <td>0.027244</td>\n",
       "      <td>-1.099349</td>\n",
       "    </tr>\n",
       "    <tr>\n",
       "      <th>...</th>\n",
       "      <td>...</td>\n",
       "      <td>...</td>\n",
       "      <td>...</td>\n",
       "      <td>...</td>\n",
       "      <td>...</td>\n",
       "      <td>...</td>\n",
       "      <td>...</td>\n",
       "    </tr>\n",
       "    <tr>\n",
       "      <th>510131</th>\n",
       "      <td>_cg13131110pvals</td>\n",
       "      <td>14.207099</td>\n",
       "      <td>0.615227</td>\n",
       "      <td>0.100815</td>\n",
       "      <td>-0.430504</td>\n",
       "      <td>0.496252</td>\n",
       "      <td>1.000000</td>\n",
       "    </tr>\n",
       "    <tr>\n",
       "      <th>510132</th>\n",
       "      <td>_cg24863262coeff</td>\n",
       "      <td>0.668306</td>\n",
       "      <td>-0.000300</td>\n",
       "      <td>0.007725</td>\n",
       "      <td>-0.002232</td>\n",
       "      <td>0.034389</td>\n",
       "      <td>0.181733</td>\n",
       "    </tr>\n",
       "    <tr>\n",
       "      <th>510133</th>\n",
       "      <td>_cg24863262pvals</td>\n",
       "      <td>16.360868</td>\n",
       "      <td>-0.635616</td>\n",
       "      <td>0.758364</td>\n",
       "      <td>-2.541084</td>\n",
       "      <td>1.253092</td>\n",
       "      <td>1.000000</td>\n",
       "    </tr>\n",
       "    <tr>\n",
       "      <th>510134</th>\n",
       "      <td>_cg25716013coeff</td>\n",
       "      <td>0.615206</td>\n",
       "      <td>0.000126</td>\n",
       "      <td>-0.009225</td>\n",
       "      <td>0.000050</td>\n",
       "      <td>0.012939</td>\n",
       "      <td>-0.378864</td>\n",
       "    </tr>\n",
       "    <tr>\n",
       "      <th>510135</th>\n",
       "      <td>_cg25716013pvals</td>\n",
       "      <td>16.088892</td>\n",
       "      <td>0.284393</td>\n",
       "      <td>-0.967859</td>\n",
       "      <td>0.060813</td>\n",
       "      <td>0.503317</td>\n",
       "      <td>-130.157829</td>\n",
       "    </tr>\n",
       "  </tbody>\n",
       "</table>\n",
       "<p>510136 rows × 7 columns</p>\n",
       "</div>"
      ],
      "text/plain": [
       "              Unnamed: 0  Intercept  age_baseline    gender       bmi  \\\n",
       "0       _cg09835024coeff   0.382232     -0.001181  0.038603 -0.002017   \n",
       "1       _cg09835024pvals   8.200218     -2.193022  3.320978 -2.012675   \n",
       "2       _cg14361672coeff   0.346327      0.001205  0.021034  0.001681   \n",
       "3       _cg14361672pvals   6.129262      1.846535  1.492897  1.383477   \n",
       "4       _cg01763666coeff   0.153616     -0.000001 -0.021109  0.002127   \n",
       "...                  ...        ...           ...       ...       ...   \n",
       "510131  _cg13131110pvals  14.207099      0.615227  0.100815 -0.430504   \n",
       "510132  _cg24863262coeff   0.668306     -0.000300  0.007725 -0.002232   \n",
       "510133  _cg24863262pvals  16.360868     -0.635616  0.758364 -2.541084   \n",
       "510134  _cg25716013coeff   0.615206      0.000126 -0.009225  0.000050   \n",
       "510135  _cg25716013pvals  16.088892      0.284393 -0.967859  0.060813   \n",
       "\n",
       "        pre_fev1fvc   genderFDR  \n",
       "0          0.084169    0.743132  \n",
       "1          2.684274    1.000000  \n",
       "2         -0.044803    0.423569  \n",
       "3         -1.179365    1.000000  \n",
       "4          0.027244   -1.099349  \n",
       "...             ...         ...  \n",
       "510131     0.496252    1.000000  \n",
       "510132     0.034389    0.181733  \n",
       "510133     1.253092    1.000000  \n",
       "510134     0.012939   -0.378864  \n",
       "510135     0.503317 -130.157829  \n",
       "\n",
       "[510136 rows x 7 columns]"
      ]
     },
     "execution_count": 5,
     "metadata": {},
     "output_type": "execute_result"
    }
   ],
   "source": [
    "Qnorm"
   ]
  },
  {
   "cell_type": "code",
   "execution_count": 6,
   "metadata": {},
   "outputs": [],
   "source": [
    "no_yesQC=noQC.merge(Qnorm,left_on='Unnamed: 0', right_on='Unnamed: 0')"
   ]
  },
  {
   "cell_type": "code",
   "execution_count": 31,
   "metadata": {},
   "outputs": [],
   "source": [
    "NOsex=no_yesQC[np.abs(no_yesQC['genderFDR_x'])<.0005]"
   ]
  },
  {
   "cell_type": "code",
   "execution_count": 32,
   "metadata": {},
   "outputs": [],
   "source": [
    "YESsex=no_yesQC[np.abs(no_yesQC['genderFDR_y'])<.005]"
   ]
  },
  {
   "cell_type": "code",
   "execution_count": 35,
   "metadata": {},
   "outputs": [
    {
     "data": {
      "image/png": "[encoded data removed]",
      "text/plain": [
       "<Figure size 432x288 with 1 Axes>"
      ]
     },
     "metadata": {},
     "output_type": "display_data"
    }
   ],
   "source": [
    "import matplotlib.pyplot as plt\n",
    "from matplotlib_venn import venn2\n",
    "\n",
    "venn2([set(NOsex['Unnamed: 0']),set(YESsex['Unnamed: 0'])],set_labels = ('preQC-gender', 'postQC-gender'))\n",
    "\n",
    "plt.show()\n",
    "# venn2([set(['A', 'B', 'C', 'D']), set(['D', 'E', 'F'])])\n"
   ]
  },
  {
   "cell_type": "code",
   "execution_count": null,
   "metadata": {},
   "outputs": [],
   "source": []
  },
  {
   "cell_type": "code",
   "execution_count": null,
   "metadata": {},
   "outputs": [],
   "source": []
  },
  {
   "cell_type": "code",
   "execution_count": null,
   "metadata": {},
   "outputs": [],
   "source": []
  },
  {
   "cell_type": "code",
   "execution_count": null,
   "metadata": {},
   "outputs": [],
   "source": []
  },
  {
   "cell_type": "code",
   "execution_count": 4,
   "metadata": {},
   "outputs": [],
   "source": [
    "class renamer():\n",
    "    def __init__(self):\n",
    "        self.d = dict()\n",
    "    def __call__(self, x):\n",
    "        if x not in self.d:\n",
    "            self.d[x] = 0\n",
    "            return x\n",
    "        else:\n",
    "            self.d[x] += 1\n",
    "            return \"%s0%d\" % (x, self.d[x])\n",
    "\n",
    "append_data = pd.DataFrame()\n",
    "traces= glob.glob('LTRC_sesame*')\n",
    "for j,trace in enumerate(traces):\n",
    "    LTRC_50=pd.read_table(trace,sep='\\t',header=0, decimal='.')\n",
    "    LTRC_50=pd.DataFrame(LTRC_50.values.reshape(865859,10))\n",
    "    \n",
    "    LTRC_50.columns=10*[trace.split('_')[2].split('.')[0]]\n",
    "#     append_data=pd.concat([append_data,LTRC_50],axis=1)\n",
    "    LTRC_50.to_csv('LTRC_sesame.csv', mode='a', header=False)\n",
    "#     append_data=append_data.dropna(how='any') #try 'all'\n",
    "# append_data.shape\n",
    "# append_data=append_data.rename(columns=renamer())\n",
    "# append_data = append_data.reindex(sorted(append_data.columns), axis=1)"
   ]
  },
  {
   "cell_type": "code",
   "execution_count": null,
   "metadata": {},
   "outputs": [],
   "source": [
    "jj=append_data.dropna()\n",
    "plt.hist(jj)"
   ]
  },
  {
   "cell_type": "code",
   "execution_count": 17,
   "metadata": {},
   "outputs": [
    {
     "data": {
      "text/html": [
       "<div>\n",
       "<style scoped>\n",
       "    .dataframe tbody tr th:only-of-type {\n",
       "        vertical-align: middle;\n",
       "    }\n",
       "\n",
       "    .dataframe tbody tr th {\n",
       "        vertical-align: top;\n",
       "    }\n",
       "\n",
       "    .dataframe thead th {\n",
       "        text-align: right;\n",
       "    }\n",
       "</style>\n",
       "<table border=\"1\" class=\"dataframe\">\n",
       "  <thead>\n",
       "    <tr style=\"text-align: right;\">\n",
       "      <th></th>\n",
       "      <th>361</th>\n",
       "      <th>361</th>\n",
       "      <th>361</th>\n",
       "      <th>361</th>\n",
       "      <th>361</th>\n",
       "      <th>361</th>\n",
       "      <th>361</th>\n",
       "      <th>361</th>\n",
       "      <th>361</th>\n",
       "      <th>361</th>\n",
       "    </tr>\n",
       "  </thead>\n",
       "  <tbody>\n",
       "    <tr>\n",
       "      <th>17</th>\n",
       "      <td>0,700396167817718</td>\n",
       "      <td>0,968953395128237</td>\n",
       "      <td>0,80538797789289</td>\n",
       "      <td>0,771736456638694</td>\n",
       "      <td>0,832648619322281</td>\n",
       "      <td>0,942930572249175</td>\n",
       "      <td>0,77024779709588</td>\n",
       "      <td>0,530428479247791</td>\n",
       "      <td>0,468209882872968</td>\n",
       "      <td>0,0807764719341824</td>\n",
       "    </tr>\n",
       "    <tr>\n",
       "      <th>18</th>\n",
       "      <td>0,650905845691556</td>\n",
       "      <td>0,808677412850904</td>\n",
       "      <td>0,851718057634951</td>\n",
       "      <td>0,417930053523072</td>\n",
       "      <td>0,0700424951708292</td>\n",
       "      <td>0,0307252752787137</td>\n",
       "      <td>0,0499583393631516</td>\n",
       "      <td>0,0185847416678609</td>\n",
       "      <td>0,0632710883400769</td>\n",
       "      <td>0,0182265933089113</td>\n",
       "    </tr>\n",
       "    <tr>\n",
       "      <th>19</th>\n",
       "      <td>0,0325292852066849</td>\n",
       "      <td>0,057320070818447</td>\n",
       "      <td>0,0219118687829662</td>\n",
       "      <td>0,0276963882541081</td>\n",
       "      <td>0,0175332757186775</td>\n",
       "      <td>0,03633108223692</td>\n",
       "      <td>0,026563095121535</td>\n",
       "      <td>0,082515527675823</td>\n",
       "      <td>0,076634615568807</td>\n",
       "      <td>0,717968894936282</td>\n",
       "    </tr>\n",
       "    <tr>\n",
       "      <th>23</th>\n",
       "      <td>0,0579867432797724</td>\n",
       "      <td>0,212216435555401</td>\n",
       "      <td>0,0702710783767078</td>\n",
       "      <td>0,0452683438432964</td>\n",
       "      <td>0,0309474299278976</td>\n",
       "      <td>0,0254934486718721</td>\n",
       "      <td>0,128061179669208</td>\n",
       "      <td>0,0512562854755004</td>\n",
       "      <td>0,958988035490852</td>\n",
       "      <td>0,978620469214467</td>\n",
       "    </tr>\n",
       "    <tr>\n",
       "      <th>24</th>\n",
       "      <td>0,845214194428445</td>\n",
       "      <td>0,815801948396944</td>\n",
       "      <td>0,939005074820499</td>\n",
       "      <td>0,930762557670789</td>\n",
       "      <td>0,884383082057531</td>\n",
       "      <td>0,881212573470936</td>\n",
       "      <td>0,805658136767281</td>\n",
       "      <td>0,876609896784482</td>\n",
       "      <td>0,944172090070649</td>\n",
       "      <td>0,93480615455964</td>\n",
       "    </tr>\n",
       "    <tr>\n",
       "      <th>...</th>\n",
       "      <td>...</td>\n",
       "      <td>...</td>\n",
       "      <td>...</td>\n",
       "      <td>...</td>\n",
       "      <td>...</td>\n",
       "      <td>...</td>\n",
       "      <td>...</td>\n",
       "      <td>...</td>\n",
       "      <td>...</td>\n",
       "      <td>...</td>\n",
       "    </tr>\n",
       "    <tr>\n",
       "      <th>865753</th>\n",
       "      <td>0,0449931411269668</td>\n",
       "      <td>0,0396906983853764</td>\n",
       "      <td>0,115207092305607</td>\n",
       "      <td>0,023485751907631</td>\n",
       "      <td>0,0388988388042346</td>\n",
       "      <td>0,063220157542517</td>\n",
       "      <td>0,0476805264762838</td>\n",
       "      <td>0,0654921329013916</td>\n",
       "      <td>0,0209165022114651</td>\n",
       "      <td>0,0232007090127292</td>\n",
       "    </tr>\n",
       "    <tr>\n",
       "      <th>865763</th>\n",
       "      <td>0,0290259769016331</td>\n",
       "      <td>0,0319844721586766</td>\n",
       "      <td>0,028288364768231</td>\n",
       "      <td>0,044767843152808</td>\n",
       "      <td>0,0232843089090361</td>\n",
       "      <td>0,0169910064127485</td>\n",
       "      <td>0,0198910661338341</td>\n",
       "      <td>0,0199066587372483</td>\n",
       "      <td>0,0966845167489707</td>\n",
       "      <td>0,942815439507805</td>\n",
       "    </tr>\n",
       "    <tr>\n",
       "      <th>865766</th>\n",
       "      <td>0,933295798220776</td>\n",
       "      <td>0,665214012468766</td>\n",
       "      <td>0,980562905266601</td>\n",
       "      <td>0,965201642701528</td>\n",
       "      <td>0,938963702344644</td>\n",
       "      <td>0,950461145009865</td>\n",
       "      <td>0,973387574823638</td>\n",
       "      <td>0,977463841433805</td>\n",
       "      <td>0,955534725266434</td>\n",
       "      <td>0,810355436249413</td>\n",
       "    </tr>\n",
       "    <tr>\n",
       "      <th>865768</th>\n",
       "      <td>0,945828122397022</td>\n",
       "      <td>0,895748787503039</td>\n",
       "      <td>0,0447628176819206</td>\n",
       "      <td>0,0186498473268572</td>\n",
       "      <td>0,0247349450421382</td>\n",
       "      <td>0,0490955707342698</td>\n",
       "      <td>0,0353571432816535</td>\n",
       "      <td>0,0617428819856467</td>\n",
       "      <td>0,035351678314189</td>\n",
       "      <td>0,0402407389446539</td>\n",
       "    </tr>\n",
       "    <tr>\n",
       "      <th>865774</th>\n",
       "      <td>0,315141988781012</td>\n",
       "      <td>0,202944023828652</td>\n",
       "      <td>0,951731514627039</td>\n",
       "      <td>0,941531158616499</td>\n",
       "      <td>0,918982752508727</td>\n",
       "      <td>0,955665732247517</td>\n",
       "      <td>0,950935544477169</td>\n",
       "      <td>0,947947471117745</td>\n",
       "      <td>0,952927569555693</td>\n",
       "      <td>0,0805784765294077</td>\n",
       "    </tr>\n",
       "  </tbody>\n",
       "</table>\n",
       "<p>82797 rows × 10 columns</p>\n",
       "</div>"
      ],
      "text/plain": [
       "                       361                 361                 361  \\\n",
       "17       0,700396167817718   0,968953395128237    0,80538797789289   \n",
       "18       0,650905845691556   0,808677412850904   0,851718057634951   \n",
       "19      0,0325292852066849   0,057320070818447  0,0219118687829662   \n",
       "23      0,0579867432797724   0,212216435555401  0,0702710783767078   \n",
       "24       0,845214194428445   0,815801948396944   0,939005074820499   \n",
       "...                    ...                 ...                 ...   \n",
       "865753  0,0449931411269668  0,0396906983853764   0,115207092305607   \n",
       "865763  0,0290259769016331  0,0319844721586766   0,028288364768231   \n",
       "865766   0,933295798220776   0,665214012468766   0,980562905266601   \n",
       "865768   0,945828122397022   0,895748787503039  0,0447628176819206   \n",
       "865774   0,315141988781012   0,202944023828652   0,951731514627039   \n",
       "\n",
       "                       361                 361                 361  \\\n",
       "17       0,771736456638694   0,832648619322281   0,942930572249175   \n",
       "18       0,417930053523072  0,0700424951708292  0,0307252752787137   \n",
       "19      0,0276963882541081  0,0175332757186775    0,03633108223692   \n",
       "23      0,0452683438432964  0,0309474299278976  0,0254934486718721   \n",
       "24       0,930762557670789   0,884383082057531   0,881212573470936   \n",
       "...                    ...                 ...                 ...   \n",
       "865753   0,023485751907631  0,0388988388042346   0,063220157542517   \n",
       "865763   0,044767843152808  0,0232843089090361  0,0169910064127485   \n",
       "865766   0,965201642701528   0,938963702344644   0,950461145009865   \n",
       "865768  0,0186498473268572  0,0247349450421382  0,0490955707342698   \n",
       "865774   0,941531158616499   0,918982752508727   0,955665732247517   \n",
       "\n",
       "                       361                 361                 361  \\\n",
       "17        0,77024779709588   0,530428479247791   0,468209882872968   \n",
       "18      0,0499583393631516  0,0185847416678609  0,0632710883400769   \n",
       "19       0,026563095121535   0,082515527675823   0,076634615568807   \n",
       "23       0,128061179669208  0,0512562854755004   0,958988035490852   \n",
       "24       0,805658136767281   0,876609896784482   0,944172090070649   \n",
       "...                    ...                 ...                 ...   \n",
       "865753  0,0476805264762838  0,0654921329013916  0,0209165022114651   \n",
       "865763  0,0198910661338341  0,0199066587372483  0,0966845167489707   \n",
       "865766   0,973387574823638   0,977463841433805   0,955534725266434   \n",
       "865768  0,0353571432816535  0,0617428819856467   0,035351678314189   \n",
       "865774   0,950935544477169   0,947947471117745   0,952927569555693   \n",
       "\n",
       "                       361  \n",
       "17      0,0807764719341824  \n",
       "18      0,0182265933089113  \n",
       "19       0,717968894936282  \n",
       "23       0,978620469214467  \n",
       "24        0,93480615455964  \n",
       "...                    ...  \n",
       "865753  0,0232007090127292  \n",
       "865763   0,942815439507805  \n",
       "865766   0,810355436249413  \n",
       "865768  0,0402407389446539  \n",
       "865774  0,0805784765294077  \n",
       "\n",
       "[82797 rows x 10 columns]"
      ]
     },
     "execution_count": 17,
     "metadata": {},
     "output_type": "execute_result"
    }
   ],
   "source": [
    "jj['361'].replace(',', '.')"
   ]
  },
  {
   "cell_type": "code",
   "execution_count": null,
   "metadata": {},
   "outputs": [],
   "source": [
    "meta=pd.read_csv('LTRCbigsheet.txt',sep='\\t')\n",
    "meta"
   ]
  },
  {
   "cell_type": "code",
   "execution_count": 13,
   "metadata": {},
   "outputs": [
    {
     "data": {
      "text/plain": [
       "1592"
      ]
     },
     "execution_count": 13,
     "metadata": {},
     "output_type": "execute_result"
    }
   ],
   "source": [
    "pd.unique(meta.S_SUBJECTID).size"
   ]
  },
  {
   "cell_type": "code",
   "execution_count": 31,
   "metadata": {},
   "outputs": [],
   "source": [
    "methylation_map = pd.read_csv('netZooPy/tests/milipeed/MotifPrior_CGmap.txt', sep='\\t', index_col=2,names=['source','target'])"
   ]
  },
  {
   "cell_type": "code",
   "execution_count": null,
   "metadata": {},
   "outputs": [],
   "source": [
    "mdata=methylation_map.merge(mdata,left_index=True, right_index=True)"
   ]
  },
  {
   "cell_type": "markdown",
   "metadata": {},
   "source": [
    "## tutorials for k-means on SNPs"
   ]
  },
  {
   "cell_type": "code",
   "execution_count": 73,
   "metadata": {},
   "outputs": [],
   "source": [
    "# https://datascience.stackexchange.com/questions/48693/perform-k-means-clustering-over-multiple-columns\n",
    "# https://stackoverflow.com/questions/38372188/how-to-add-k-means-predicted-clusters-in-a-column-to-a-dataframe-in-python"
   ]
  },
  {
   "cell_type": "code",
   "execution_count": null,
   "metadata": {},
   "outputs": [],
   "source": []
  },
  {
   "cell_type": "code",
   "execution_count": 2,
   "metadata": {},
   "outputs": [],
   "source": [
    "# from sklearn.cluster import KMeans\n",
    "# snps2 = pd.read_csv('LTRC_65snp.csv', sep=',')\n",
    "\n",
    "# km = KMeans(n_clusters=5, random_state=1)\n",
    "# new = snps2._get_numeric_data().dropna(axis=1)\n",
    "# km.fit(new)\n",
    "# predict=km.predict(new)\n",
    "# snps2['kmeans'] = pd.Series(predict, index=snps2.index)"
   ]
  },
  {
   "cell_type": "code",
   "execution_count": null,
   "metadata": {},
   "outputs": [],
   "source": [
    "# pval = pd.read_csv('detP.csv', sep='\\t')\n",
    "# _snps = pd.read_csv('LTRC_65snp.csv', sep=',',index_col=0)\n",
    "# data=_snps._get_numeric_data().dropna(axis=1)\n",
    "pheno=pd.read_csv(\"LTRCbigsheet.txt\",sep='\\t')\n",
    "data.columns=pheno['Gender']\n",
    "data=data.transpose()"
   ]
  },
  {
   "cell_type": "code",
   "execution_count": 84,
   "metadata": {},
   "outputs": [],
   "source": [
    "clustering_kmeans = KMeans(n_clusters=2, precompute_distances=\"auto\", n_jobs=-1)\n",
    "data['clusters'] = clustering_kmeans.fit_predict(data._get_numeric_data().dropna(axis=1))"
   ]
  },
  {
   "cell_type": "code",
   "execution_count": 85,
   "metadata": {},
   "outputs": [
    {
     "data": {
      "image/png": "[encoded data removed]",
      "text/plain": [
       "<Figure size 432x288 with 1 Axes>"
      ]
     },
     "metadata": {
      "needs_background": "light"
     },
     "output_type": "display_data"
    }
   ],
   "source": [
    "import pandas as pd\n",
    "import seaborn as sns\n",
    "import matplotlib.pyplot as plt\n",
    "from sklearn.decomposition import PCA\n",
    "from sklearn.cluster import KMeans\n",
    "\n",
    "reduced_data = PCA(n_components=2).fit_transform(data)\n",
    "results = pd.DataFrame(reduced_data,columns=['pca1','pca2'])\n",
    "\n",
    "g=sns.scatterplot(x=\"pca1\", y=\"pca2\", hue=data.index, data=results)\n",
    "plt.title('K-means Clustering with 2 dimensions over 3041 TOE')\n",
    "# g.set(ylim=(-5, 5))\n",
    "# g.set(xlim=(-5, 5))\n",
    "plt.show()"
   ]
  },
  {
   "cell_type": "code",
   "execution_count": null,
   "metadata": {},
   "outputs": [],
   "source": []
  },
  {
   "cell_type": "code",
   "execution_count": null,
   "metadata": {},
   "outputs": [],
   "source": []
  },
  {
   "cell_type": "code",
   "execution_count": 86,
   "metadata": {},
   "outputs": [],
   "source": [
    "_snps = pd.read_csv('LTRC_65snp.csv', sep=',')\n",
    "data=_snps._get_numeric_data().dropna(axis=1)\n",
    "# pheno=pd.read_csv(\"LTRCbigsheet.txt\",sep='\\t')\n",
    "# data.columns=pheno['Gender']\n",
    "# data=data.transpose()\n",
    "clustering_kmeans = KMeans(n_clusters=3, precompute_distances=\"auto\", n_jobs=-1)\n",
    "data['clusters'] = clustering_kmeans.fit_predict(data._get_numeric_data().dropna(axis=1))"
   ]
  },
  {
   "cell_type": "code",
   "execution_count": 88,
   "metadata": {},
   "outputs": [
    {
     "data": {
      "image/png": "[encoded data removed]",
      "text/plain": [
       "<Figure size 432x288 with 1 Axes>"
      ]
     },
     "metadata": {
      "needs_background": "light"
     },
     "output_type": "display_data"
    }
   ],
   "source": [
    "reduced_data = PCA(n_components=3).fit_transform(data)\n",
    "results = pd.DataFrame(reduced_data,columns=['pca1','pca2','pca3'])\n",
    "\n",
    "sns.scatterplot(x=\"pca1\", y=\"pca2\", hue=data['clusters'], data=results)\n",
    "plt.title('K-means Clustering with 2 dimensions over 59 SNPs')\n",
    "# g.set(ylim=(-5, 5))\n",
    "# g.set(xlim=(-5, 5))\n",
    "plt.show()"
   ]
  },
  {
   "cell_type": "code",
   "execution_count": 10,
   "metadata": {},
   "outputs": [
    {
     "name": "stderr",
     "output_type": "stream",
     "text": [
      "/udd/redmo/.conda/envs/mypy3/lib/python3.7/site-packages/ipykernel_launcher.py:1: ParserWarning: Falling back to the 'python' engine because the 'c' engine does not support regex separators (separators > 1 char and different from '\\s+' are interpreted as regex); you can avoid this warning by specifying engine='python'.\n",
      "  \"\"\"Entry point for launching an IPython kernel.\n"
     ]
    }
   ],
   "source": [
    "probes=pd.read_csv('detPmean.csv',sep='/t')"
   ]
  },
  {
   "cell_type": "code",
   "execution_count": 23,
   "metadata": {},
   "outputs": [],
   "source": [
    "pd.DataFrame(probes[probes>.05].dropna()).to_csv('meanDetP005.txt',index=True,header=None)\n"
   ]
  },
  {
   "cell_type": "code",
   "execution_count": 20,
   "metadata": {},
   "outputs": [
    {
     "data": {
      "text/plain": [
       "[]"
      ]
     },
     "execution_count": 20,
     "metadata": {},
     "output_type": "execute_result"
    }
   ],
   "source": [
    "traces=glob.glob('../../proj/regeps/regep00/studies/LTRC/data/epigenetic/methylation/TopMed/data/freezes/20200424/DCC_LEVEL3/*noob_correct.csv')\n",
    "traces\n"
   ]
  },
  {
   "cell_type": "code",
   "execution_count": 19,
   "metadata": {},
   "outputs": [
    {
     "data": {
      "text/plain": [
       "'/udd/redmo'"
      ]
     },
     "execution_count": 19,
     "metadata": {},
     "output_type": "execute_result"
    }
   ],
   "source": [
    "os.getcwd()\n",
    "# os.chdir('../../')"
   ]
  },
  {
   "cell_type": "code",
   "execution_count": 31,
   "metadata": {},
   "outputs": [
    {
     "data": {
      "text/plain": [
       "[]"
      ]
     },
     "execution_count": 31,
     "metadata": {},
     "output_type": "execute_result"
    }
   ],
   "source": [
    "traces=glob.glob('/proj/regeps/regep00/studies/LTRC/data/epigenetic/methylation/TopMed/data/freezes/20200424/DCC_LEVEL3/*noob_correct.csv')\n",
    "\n",
    "gene_subset=[0,10000]\n",
    "traces"
   ]
  },
  {
   "cell_type": "code",
   "execution_count": null,
   "metadata": {},
   "outputs": [],
   "source": [
    "append_data = pd.DataFrame()\n",
    "# data=pd.DataFrame(pd.read_csv(trace,sep='\\t',header=0,index_col=0))\n",
    "\n",
    "# traces= glob.glob(data+'/*')\n",
    "for i,trace in enumerate(traces):\n",
    "#     for j in range(0,data.shape[0],10000):\n",
    "    data=pd.DataFrame(pd.read_csv(trace,sep='\\t',header=0,index_col=0))#,skiprows=j,nrows=(j+10000)-j))\n",
    "    append_data=pd.concat([append_data,data],axis=1)\n",
    "append_data.to_csv('noob_corrected_LEVEL3_LTRC.txt',sep='\\t',index=True,header=True)"
   ]
  },
  {
   "cell_type": "code",
   "execution_count": 51,
   "metadata": {},
   "outputs": [],
   "source": [
    "data=pd.read_csv('noob_corrected_LEVEL3_LTRC.txt',sep='\\t',header=0,index_col=0)#,usecols=[2,10])\n"
   ]
  },
  {
   "cell_type": "code",
   "execution_count": 49,
   "metadata": {},
   "outputs": [
    {
     "data": {
      "text/plain": [
       "(array([], dtype=int64), array([], dtype=int64))"
      ]
     },
     "execution_count": 49,
     "metadata": {},
     "output_type": "execute_result"
    }
   ],
   "source": [
    "np.where(data == 0)"
   ]
  },
  {
   "cell_type": "code",
   "execution_count": 37,
   "metadata": {},
   "outputs": [
    {
     "data": {
      "text/html": [
       "<div>\n",
       "<style scoped>\n",
       "    .dataframe tbody tr th:only-of-type {\n",
       "        vertical-align: middle;\n",
       "    }\n",
       "\n",
       "    .dataframe tbody tr th {\n",
       "        vertical-align: top;\n",
       "    }\n",
       "\n",
       "    .dataframe thead th {\n",
       "        text-align: right;\n",
       "    }\n",
       "</style>\n",
       "<table border=\"1\" class=\"dataframe\">\n",
       "  <thead>\n",
       "    <tr style=\"text-align: right;\">\n",
       "      <th></th>\n",
       "    </tr>\n",
       "    <tr>\n",
       "      <th>TOE266128</th>\n",
       "    </tr>\n",
       "  </thead>\n",
       "  <tbody>\n",
       "    <tr>\n",
       "      <th>0.024769</th>\n",
       "    </tr>\n",
       "    <tr>\n",
       "      <th>0.034034</th>\n",
       "    </tr>\n",
       "    <tr>\n",
       "      <th>0.512098</th>\n",
       "    </tr>\n",
       "    <tr>\n",
       "      <th>0.877385</th>\n",
       "    </tr>\n",
       "    <tr>\n",
       "      <th>0.769043</th>\n",
       "    </tr>\n",
       "    <tr>\n",
       "      <th>...</th>\n",
       "    </tr>\n",
       "    <tr>\n",
       "      <th>0.786988</th>\n",
       "    </tr>\n",
       "    <tr>\n",
       "      <th>0.862627</th>\n",
       "    </tr>\n",
       "    <tr>\n",
       "      <th>0.761948</th>\n",
       "    </tr>\n",
       "    <tr>\n",
       "      <th>0.079193</th>\n",
       "    </tr>\n",
       "    <tr>\n",
       "      <th>0.584943</th>\n",
       "    </tr>\n",
       "  </tbody>\n",
       "</table>\n",
       "<p>866091 rows × 0 columns</p>\n",
       "</div>"
      ],
      "text/plain": [
       "Empty DataFrame\n",
       "Columns: []\n",
       "Index: [0.0247688797921272, 0.0340341123806856, 0.5120982899620561, 0.8773846566608501, 0.7690432570823571, 0.0642388392699857, 0.0356091082917557, 0.0382445637320923, 0.0203634703727111, 0.0254678504761207, 0.933853903348982, 0.0238499793821841, 0.863647866197768, 0.262007881798339, 0.960442804001436, 0.0637068209207421, 0.0542778890159422, 0.0319289438117758, 0.719078832340149, 0.0250667618202135, 0.5595013115145789, 0.25081340141930497, 0.0292649588729514, 0.0253119356741603, 0.0342948911727365, 0.904868877275772, 0.0207390636694662, 0.0731385172775923, 0.47985353169307, 0.0221649497862681, 0.0256917063709783, 0.8298496249886771, 0.0401879519242985, 0.245978417808256, 0.0545795884437005, 0.0175155691226619, 0.0265308894681182, 0.0488129467251663, 0.0324931453436485, 0.0676384799272814, 0.0172777152569081, 0.74538481039058, 0.0264945461864398, 0.0163527139029389, 0.0178831996715968, 0.95929775360795, 0.6967284045238289, 0.572765017072004, 0.0799390312124043, 0.0243945697078291, 0.134122909199963, 0.0469735859704905, 0.714214492079937, 0.290176527707137, 0.733257714947762, 0.8900076084976801, 0.0408334068079935, 0.0428053267760143, 0.308746804621757, 0.0527597121990666, 0.0213269697765412, 0.0153827923524335, 0.0396463785655581, 0.0271816584922238, 0.0252908877885372, 0.0519150097425634, 0.0643714635778924, 0.0370767772401939, 0.920680714229915, 0.38427329420094697, 0.515566800809737, 0.814337504348544, 0.477781077328036, 0.0213762143682467, 0.0333302420145728, 0.0385616611138645, 0.969291593141886, 0.23192578444369505, 0.0236867654250148, 0.17391524579487902, 0.0183217582423912, 0.0355072956535716, 0.157759249767873, 0.0220176507246586, 0.0567641266829474, 0.967475964865109, 0.0182651490261751, 0.0287128917937334, 0.0208619084516909, 0.18987310209049504, 0.0322805589332815, 0.14050537279804598, 0.953077941663468, 0.250084749240507, 0.118881577986807, 0.0507986605184111, 0.0855753069446092, 0.968519469721576, 0.0207822418610641, 0.908207193995934, ...]\n",
       "\n",
       "[866091 rows x 0 columns]"
      ]
     },
     "execution_count": 37,
     "metadata": {},
     "output_type": "execute_result"
    }
   ],
   "source": [
    "data"
   ]
  },
  {
   "cell_type": "code",
   "execution_count": 7,
   "metadata": {},
   "outputs": [],
   "source": [
    "data=pd.read_csv('data/MotifPipeline/remap/A549_spRE2020.txt',sep='\\t',header=None,index_col=None)"
   ]
  },
  {
   "cell_type": "code",
   "execution_count": 39,
   "metadata": {},
   "outputs": [],
   "source": [
    "data=pd.read_csv('LTRC_sex_lickers_2.txt',sep='\\t',header=0,index_col=None)\n",
    "Pdata=pd.read_csv('LTRC_predicted_sex_lickers.txt',sep='\\t',header=0,index_col=None)"
   ]
  },
  {
   "cell_type": "code",
   "execution_count": 48,
   "metadata": {},
   "outputs": [
    {
     "data": {
      "text/html": [
       "<div>\n",
       "<style scoped>\n",
       "    .dataframe tbody tr th:only-of-type {\n",
       "        vertical-align: middle;\n",
       "    }\n",
       "\n",
       "    .dataframe tbody tr th {\n",
       "        vertical-align: top;\n",
       "    }\n",
       "\n",
       "    .dataframe thead th {\n",
       "        text-align: right;\n",
       "    }\n",
       "</style>\n",
       "<table border=\"1\" class=\"dataframe\">\n",
       "  <thead>\n",
       "    <tr style=\"text-align: right;\">\n",
       "      <th></th>\n",
       "      <th>predictedSex</th>\n",
       "      <th>sex</th>\n",
       "    </tr>\n",
       "  </thead>\n",
       "  <tbody>\n",
       "    <tr>\n",
       "      <th>0</th>\n",
       "      <td>M</td>\n",
       "      <td>M</td>\n",
       "    </tr>\n",
       "    <tr>\n",
       "      <th>1</th>\n",
       "      <td>F</td>\n",
       "      <td>F</td>\n",
       "    </tr>\n",
       "    <tr>\n",
       "      <th>2</th>\n",
       "      <td>F</td>\n",
       "      <td>F</td>\n",
       "    </tr>\n",
       "    <tr>\n",
       "      <th>3</th>\n",
       "      <td>F</td>\n",
       "      <td>F</td>\n",
       "    </tr>\n",
       "    <tr>\n",
       "      <th>4</th>\n",
       "      <td>M</td>\n",
       "      <td>M</td>\n",
       "    </tr>\n",
       "    <tr>\n",
       "      <th>...</th>\n",
       "      <td>...</td>\n",
       "      <td>...</td>\n",
       "    </tr>\n",
       "    <tr>\n",
       "      <th>3036</th>\n",
       "      <td>F</td>\n",
       "      <td>F</td>\n",
       "    </tr>\n",
       "    <tr>\n",
       "      <th>3037</th>\n",
       "      <td>F</td>\n",
       "      <td>F</td>\n",
       "    </tr>\n",
       "    <tr>\n",
       "      <th>3038</th>\n",
       "      <td>F</td>\n",
       "      <td>F</td>\n",
       "    </tr>\n",
       "    <tr>\n",
       "      <th>3039</th>\n",
       "      <td>F</td>\n",
       "      <td>F</td>\n",
       "    </tr>\n",
       "    <tr>\n",
       "      <th>3040</th>\n",
       "      <td>M</td>\n",
       "      <td>M</td>\n",
       "    </tr>\n",
       "  </tbody>\n",
       "</table>\n",
       "<p>3041 rows × 2 columns</p>\n",
       "</div>"
      ],
      "text/plain": [
       "     predictedSex sex\n",
       "0               M   M\n",
       "1               F   F\n",
       "2               F   F\n",
       "3               F   F\n",
       "4               M   M\n",
       "...           ...  ..\n",
       "3036            F   F\n",
       "3037            F   F\n",
       "3038            F   F\n",
       "3039            F   F\n",
       "3040            M   M\n",
       "\n",
       "[3041 rows x 2 columns]"
      ]
     },
     "execution_count": 48,
     "metadata": {},
     "output_type": "execute_result"
    }
   ],
   "source": [
    "cc=Pdata['predictedSex']\n",
    "dd=data['sex']\n",
    "data=pd.concat([cc,dd],axis=1)\n",
    "data"
   ]
  },
  {
   "cell_type": "code",
   "execution_count": 49,
   "metadata": {},
   "outputs": [
    {
     "data": {
      "text/html": [
       "<div>\n",
       "<style scoped>\n",
       "    .dataframe tbody tr th:only-of-type {\n",
       "        vertical-align: middle;\n",
       "    }\n",
       "\n",
       "    .dataframe tbody tr th {\n",
       "        vertical-align: top;\n",
       "    }\n",
       "\n",
       "    .dataframe thead th {\n",
       "        text-align: right;\n",
       "    }\n",
       "</style>\n",
       "<table border=\"1\" class=\"dataframe\">\n",
       "  <thead>\n",
       "    <tr style=\"text-align: right;\">\n",
       "      <th></th>\n",
       "      <th>TOE</th>\n",
       "      <th>xMed</th>\n",
       "      <th>yMed</th>\n",
       "      <th>predictedSex</th>\n",
       "    </tr>\n",
       "  </thead>\n",
       "  <tbody>\n",
       "    <tr>\n",
       "      <th>366</th>\n",
       "      <td>TOE550733_203299670081_R05C01_329694</td>\n",
       "      <td>14.000406</td>\n",
       "      <td>12.234903</td>\n",
       "      <td>M</td>\n",
       "    </tr>\n",
       "    <tr>\n",
       "      <th>2057</th>\n",
       "      <td>TOE596207_203219760032_R04C01_325248</td>\n",
       "      <td>13.667385</td>\n",
       "      <td>12.219421</td>\n",
       "      <td>M</td>\n",
       "    </tr>\n",
       "    <tr>\n",
       "      <th>2665</th>\n",
       "      <td>TOE428406_203991470121_R07C01_367763</td>\n",
       "      <td>13.775731</td>\n",
       "      <td>8.694199</td>\n",
       "      <td>F</td>\n",
       "    </tr>\n",
       "    <tr>\n",
       "      <th>2907</th>\n",
       "      <td>TOE802043_203866380049_R05C01_367756</td>\n",
       "      <td>13.299029</td>\n",
       "      <td>12.231773</td>\n",
       "      <td>M</td>\n",
       "    </tr>\n",
       "  </tbody>\n",
       "</table>\n",
       "</div>"
      ],
      "text/plain": [
       "                                       TOE       xMed       yMed predictedSex\n",
       "366   TOE550733_203299670081_R05C01_329694  14.000406  12.234903            M\n",
       "2057  TOE596207_203219760032_R04C01_325248  13.667385  12.219421            M\n",
       "2665  TOE428406_203991470121_R07C01_367763  13.775731   8.694199            F\n",
       "2907  TOE802043_203866380049_R05C01_367756  13.299029  12.231773            M"
      ]
     },
     "execution_count": 49,
     "metadata": {},
     "output_type": "execute_result"
    }
   ],
   "source": [
    "Pdata[data['predictedSex']!=data['sex']]"
   ]
  },
  {
   "cell_type": "code",
   "execution_count": null,
   "metadata": {},
   "outputs": [],
   "source": []
  },
  {
   "cell_type": "code",
   "execution_count": null,
   "metadata": {},
   "outputs": [],
   "source": []
  },
  {
   "cell_type": "markdown",
   "metadata": {},
   "source": [
    "# cononcical LTRC data types"
   ]
  },
  {
   "cell_type": "code",
   "execution_count": 360,
   "metadata": {},
   "outputs": [],
   "source": [
    "pheno=pd.read_table('analyses/LTRC/ltrcSamplePhenoIdMap_20201019.csv',sep=',')\n",
    "# meta_gr = meta.groupby(['patid','age']).agg({'lobe':'mean'})\n",
    "pheno_agr = pheno.groupby(['patid']).agg(' '.join)\n",
    "pd.DataFrame(pheno_agr)\n",
    "methyl_pheno=pheno[pheno['topmedId'].str.contains(pat='TOE')]\n"
   ]
  },
  {
   "cell_type": "code",
   "execution_count": 254,
   "metadata": {},
   "outputs": [
    {
     "data": {
      "text/plain": [
       "<matplotlib.legend.Legend at 0x7fd1baa03190>"
      ]
     },
     "execution_count": 254,
     "metadata": {},
     "output_type": "execute_result"
    },
    {
     "data": {
      "image/png": "[encoded data removed]",
      "text/plain": [
       "<Figure size 432x288 with 1 Axes>"
      ]
     },
     "metadata": {
      "needs_background": "light"
     },
     "output_type": "display_data"
    }
   ],
   "source": [
    "plt.hist(pd.unique(methyl_pheno_sub_lung.patid),bins=100,log=True,label='lung')\n",
    "plt.hist(pd.unique(methyl_pheno_sub_blood.patid),bins=100,log=True,label='blood')\n",
    "plt.legend(loc=\"best\")\n",
    "# plt.xlabel(\"patid\")"
   ]
  },
  {
   "cell_type": "markdown",
   "metadata": {},
   "source": [
    "# subject phenotypes"
   ]
  },
  {
   "cell_type": "code",
   "execution_count": null,
   "metadata": {},
   "outputs": [],
   "source": [
    "methyl_pheno_sub=methyl_pheno.merge(TOE,right_on='TOE',left_on='topmedId')\n",
    "meta=pd.read_table('analyses/LTRC/ltrcLongTopMedHarm_20201019.csv',sep=',')\n",
    "# meta_gr = meta.groupby(['patid','age']).agg({'lobe':'mean'})\n",
    "meta_gr = meta.groupby(['patid','age','lobe']).agg(' '.join)\n",
    "pd.DataFrame(meta_gr)\n",
    "# meta.columns"
   ]
  },
  {
   "cell_type": "code",
   "execution_count": 321,
   "metadata": {},
   "outputs": [],
   "source": [
    "all_methyl_pheno=methyl_pheno_sub.merge(meta,right_on='patid',left_on='patid')"
   ]
  },
  {
   "cell_type": "code",
   "execution_count": 378,
   "metadata": {},
   "outputs": [
    {
     "data": {
      "text/plain": [
       "[349, 604, 271, 544]"
      ]
     },
     "execution_count": 378,
     "metadata": {},
     "output_type": "execute_result"
    }
   ],
   "source": [
    "methyl_pheno_sub_lung=all_methyl_pheno[all_methyl_pheno['Project'].str.contains(pat='Methylation.lung')]\n",
    "methyl_pheno_sub_lung_case=methyl_pheno_sub_lung[methyl_pheno_sub_lung['clinCopd']==1]\n",
    "MLCaseMale=methyl_pheno_sub_lung_case[methyl_pheno_sub_lung_case['gender']==1]\n",
    "MLCaseFemale=methyl_pheno_sub_lung_case[methyl_pheno_sub_lung_case['gender']==0]\n",
    "\n",
    "methyl_pheno_sub_lung_control=methyl_pheno_sub_lung[methyl_pheno_sub_lung['clinCopd']==0]\n",
    "MLContMale=methyl_pheno_sub_lung_control[methyl_pheno_sub_lung_control['gender']==1]\n",
    "MLContFemale=methyl_pheno_sub_lung_control[methyl_pheno_sub_lung_control['gender']==0]\n",
    "\n",
    "LCaM=pd.unique(MLCaseMale.topmedId) ## more PatID than topmedID!!\n",
    "LCoM=pd.unique(MLContMale.topmedId)\n",
    "LCaF=pd.unique(MLCaseFemale.topmedId)\n",
    "LCoF=pd.unique(MLContFemale.topmedId)\n",
    "\n",
    "[len(LCaM),len(LCoM),len(LCaF),len(LCoF)]\n"
   ]
  },
  {
   "cell_type": "code",
   "execution_count": 350,
   "metadata": {},
   "outputs": [
    {
     "data": {
      "text/plain": [
       "[180, 489, 179, 432]"
      ]
     },
     "execution_count": 350,
     "metadata": {},
     "output_type": "execute_result"
    }
   ],
   "source": [
    "methyl_pheno_sub_blood=all_methyl_pheno[all_methyl_pheno['Project'].str.contains(pat='Methylation.blood')]\n",
    "methyl_pheno_sub_blood_case=methyl_pheno_sub_blood[methyl_pheno_sub_blood['clinCopd']==1]\n",
    "MBCaseMale=methyl_pheno_sub_blood_case[methyl_pheno_sub_blood_case['gender']==1]\n",
    "MBCaseFemale=methyl_pheno_sub_blood_case[methyl_pheno_sub_blood_case['gender']==0]\n",
    "\n",
    "methyl_pheno_sub_blood_control=methyl_pheno_sub_blood[methyl_pheno_sub_blood['clinCopd']==0]\n",
    "MBContMale=methyl_pheno_sub_blood_control[methyl_pheno_sub_blood_control['gender']==1]\n",
    "MBContFemale=methyl_pheno_sub_blood_control[methyl_pheno_sub_blood_control['gender']==0]\n",
    "\n",
    "BCaM=pd.unique(MBCaseMale.topmedId)\n",
    "BCoM=pd.unique(MBContMale.topmedId)\n",
    "BCaF=pd.unique(MBCaseFemale.topmedId)\n",
    "BCoF=pd.unique(MBContFemale.topmedId)\n",
    "\n",
    "[len(BCaM),len(BCoM),len(BCaF),len(BCoF)]\n",
    "\n"
   ]
  },
  {
   "cell_type": "code",
   "execution_count": 436,
   "metadata": {},
   "outputs": [],
   "source": [
    "data_head=pd.read_table('analyses/LTRC/beta_LTRC_header.txt',sep='\\t')\n",
    "TOE=data_head.columns.str.split('_').str[0].tolist()\n",
    "TOE=pd.DataFrame(TOE)\n",
    "TOE['TOE']=TOE[0]\n",
    "\n",
    "TOE['index']=TOE.index\n",
    "TOE.index=TOE['TOE']\n",
    "TOE=TOE.T\n",
    "\n",
    "BCaMi=TOE[BCaM].T['index'].values.astype(int)\n",
    "BCoMi=TOE[BCoM].T['index'].values.astype(int)\n",
    "BCaFi=TOE[BCaF].T['index'].values.astype(int)\n",
    "BCoFi=TOE[BCoF].T['index'].values.astype(int)\n",
    "\n",
    "LCaMi=TOE[LCaM].T['index'].values.astype(int)\n",
    "LCoMi=TOE[LCoM].T['index'].values.astype(int)\n",
    "LCaFi=TOE[LCaF].T['index'].values.astype(int)\n",
    "LCoFi=TOE[LCoF].T['index'].values.astype(int)\n"
   ]
  },
  {
   "cell_type": "code",
   "execution_count": 437,
   "metadata": {},
   "outputs": [],
   "source": [
    "cc=pd.DataFrame([BCaMi,BCoMi,BCaFi,BCoFi,LCaMi,LCoMi,LCaFi,LCoFi])\n",
    "cc.index=['BCaMi','BCoMi','BCaFi','BCoFi','LCaMi','LCoMi','LCaFi','LCoFi']\n",
    "cc.to_csv('analyses/LTRC/lbk_pheno_index_halloween.txt',sep='\\t',index=True,header=False)"
   ]
  },
  {
   "cell_type": "markdown",
   "metadata": {},
   "source": [
    "# parse into gender and disease status subpop"
   ]
  },
  {
   "cell_type": "code",
   "execution_count": 443,
   "metadata": {},
   "outputs": [],
   "source": [
    "ind=pd.read_csv('~/analyses/LTRC/lbk_pheno_index_halloween.txt',sep='\\t',index_col=0,header=None)\n",
    "a=ind.T['BCaMi'].dropna()\n",
    "data=pd.read_csv('Beta_flagged.csv',sep='\\t',header=0,index_col=None,usecols=a.astype(int))\n",
    "data.to_csv('Beta_flagged_BCaMi.txt',sep='\\t',index=False,header=True)\n",
    "\n",
    "a=ind.T['BCoMi'].dropna()\n",
    "data=pd.read_csv('Beta_flagged.csv',sep='\\t',header=0,index_col=None,usecols=a.astype(int))\n",
    "data.to_csv('Beta_flagged_BCoMi.txt',sep='\\t',index=False,header=True)\n",
    "\n",
    "a=ind.T['BCaFi'].dropna()\n",
    "data=pd.read_csv('Beta_flagged.csv',sep='\\t',header=0,index_col=None,usecols=a.astype(int))\n",
    "data.to_csv('Beta_flagged_BCaFi.txt',sep='\\t',index=False,header=True)\n",
    "\n",
    "a=ind.T['BCoFi'].dropna()\n",
    "data=pd.read_csv('Beta_flagged.csv',sep='\\t',header=0,index_col=None,usecols=a.astype(int))\n",
    "data.to_csv('Beta_flagged_BCoFi.txt',sep='\\t',index=False,header=True)\n",
    "\n",
    "\n",
    "\n",
    "a=ind.T['LCaMi'].dropna()\n",
    "data=pd.read_csv('Beta_flagged.csv',sep='\\t',header=0,index_col=None,usecols=a.astype(int))\n",
    "data.to_csv('Beta_flagged_LCaMi.txt',sep='\\t',index=False,header=True)\n",
    "\n",
    "a=ind.T['LCoMi'].dropna()\n",
    "data=pd.read_csv('Beta_flagged.csv',sep='\\t',header=0,index_col=None,usecols=a.astype(int))\n",
    "data.to_csv('Beta_flagged_LCoMi.txt',sep='\\t',index=False,header=True)\n",
    "\n",
    "a=ind.T['LCaFi'].dropna()\n",
    "data=pd.read_csv('Beta_flagged.csv',sep='\\t',header=0,index_col=None,usecols=a.astype(int))\n",
    "data.to_csv('Beta_flagged_LCaFi.txt',sep='\\t',index=False,header=True)\n",
    "\n",
    "a=ind.T['LCoFi'].dropna()\n",
    "data=pd.read_csv('Beta_flagged.csv',sep='\\t',header=0,index_col=None,usecols=a.astype(int))\n",
    "data.to_csv('Beta_flagged_LCoFi.txt',sep='\\t',index=False,header=True)\n",
    "\n",
    "\n"
   ]
  },
  {
   "cell_type": "markdown",
   "metadata": {},
   "source": [
    "# diff of avg btwn subpop"
   ]
  },
  {
   "cell_type": "code",
   "execution_count": null,
   "metadata": {},
   "outputs": [],
   "source": [
    "cg=pd.read_csv('data/LTRC/LTRC_cg.txt',sep='\\t',header=0,index_col=None)\n",
    "\n",
    "BCaMi=pd.read_csv('data/LTRC/Beta_flagged_BCaMi.txt',sep='\\t',header=0,index_col=None)\n",
    "BCoMi=pd.read_csv('data/LTRC/Beta_flagged_BCoMi.txt',sep='\\t',header=0,index_col=None)\n",
    "#BM=\n",
    "(BCaMi.mean(axis=1)-BCoMi.mean(axis=1)).to_csv('data/LTRC/BM_BCaMi-BCoMi.txt',sep='\\t',index=False,header=True)\n",
    " \n",
    "BCaFi=pd.read_csv('data/LTRC/Beta_flagged_BCaFi.txt',sep='\\t',header=0,index_col=None)\n",
    "# BD=\n",
    "(BCaMi.mean(axis=1)-BCaFi.mean(axis=1)).to_csv('data/LTRC/BD_BCaMi-BCaFi.txt',sep='\\t',index=False,header=True)\n",
    "\n",
    "BCoFi=pd.read_csv('data/LTRC/Beta_flagged_BCoFi.txt',sep='\\t',header=0,index_col=None)\n",
    "# BND=\n",
    "(BCoMi.mean(axis=1)-BCoFi.mean(axis=1)).to_csv('data/LTRC/BND_BCoMi-BCoFi.txt',sep='\\t',index=False,header=True)\n",
    "# BF=\n",
    "(BCaFi.mean(axis=1)-BCoFi.mean(axis=1)).to_csv('data/LTRC/BF_BCaFi-BCoFi.txt',sep='\\t',index=False,header=True)\n",
    "\n",
    "\n",
    "LCaMi=pd.read_csv('data/LTRC/Beta_flagged_LCaMi.txt',sep='\\t',header=0,index_col=None)\n",
    "LCoMi=pd.read_csv('data/LTRC/Beta_flagged_LCoMi.txt',sep='\\t',header=0,index_col=None)\n",
    "#LM=\n",
    "(LCaMi.mean(axis=1)-LCoMi.mean(axis=1)).to_csv('data/LTRC/LM_LCaMi-LCoMi.txt',sep='\\t',index=False,header=True)\n",
    " \n",
    "LCaFi=pd.read_csv('data/LTRC/Beta_flagged_LCaFi.txt',sep='\\t',header=0,index_col=None)\n",
    "# LD=\n",
    "(LCaMi.mean(axis=1)-LCaFi.mean(axis=1)).to_csv('data/LTRC/LD_LCaMi-LCaFi.txt',sep='\\t',index=False,header=True)\n",
    "\n",
    "LCoFi=pd.read_csv('data/LTRC/Beta_flagged_LCoFi.txt',sep='\\t',header=0,index_col=None)\n",
    "# LND=\n",
    "(LCoMi.mean(axis=1)-LCoFi.mean(axis=1)).to_csv('data/LTRC/LND_LCoMi-LCoFi.txt',sep='\\t',index=False,header=True)\n",
    "# LF=\n",
    "(LCaFi.mean(axis=1)-LCoFi.mean(axis=1)).to_csv('data/LTRC/LF_LCaFi-LCoFi.txt',sep='\\t',index=False,header=True)\n"
   ]
  },
  {
   "cell_type": "markdown",
   "metadata": {},
   "source": [
    "# Sex"
   ]
  },
  {
   "cell_type": "code",
   "execution_count": 553,
   "metadata": {},
   "outputs": [
    {
     "data": {
      "text/plain": [
       "Text(0.5, 1.0, 'Diff of Avg between Disease Status')"
      ]
     },
     "execution_count": 553,
     "metadata": {},
     "output_type": "execute_result"
    },
    {
     "data": {
      "image/png": "[encoded data removed]",
      "text/plain": [
       "<Figure size 432x288 with 1 Axes>"
      ]
     },
     "metadata": {
      "needs_background": "light"
     },
     "output_type": "display_data"
    }
   ],
   "source": [
    "cg=pd.read_csv('data/LTRC/LTRC_cg.txt',sep='\\t',header=0,index_col=None)\n",
    "BF=pd.read_csv('data/LTRC/BF_BCaFi-BCoFi.txt',sep='\\t',header=0,index_col=None)\n",
    "BM=pd.read_csv('data/LTRC/BM_BCaMi-BCoMi.txt',sep='\\t',header=0,index_col=None)\n",
    "g=sns.distplot(np.log(BF.values),kde=True,hist=True,rug=False,label='Female Blood')\n",
    "b=sns.distplot(np.log(BM.values),kde=True,hist=True,rug=False,label='Male Blood')\n",
    "\n",
    "LF=pd.read_csv('data/LTRC/LF_LCaFi-LCoFi.txt',sep='\\t',header=0,index_col=None)\n",
    "LM=pd.read_csv('data/LTRC/LM_LCaMi-LCoMi.txt',sep='\\t',header=0,index_col=None)\n",
    "g=sns.distplot(np.log(LF.values),kde=True,hist=True,rug=False,label='Female Lung')\n",
    "b=sns.distplot(np.log(LM.values),kde=True,hist=True,rug=False,label='Male Lung')\n",
    "plt.legend(loc='best')\n",
    "# plt.xlabel('Log Diff')\n",
    "plt.title('Diff of Avg between Disease Status')"
   ]
  },
  {
   "cell_type": "markdown",
   "metadata": {},
   "source": [
    "# Disease"
   ]
  },
  {
   "cell_type": "code",
   "execution_count": 554,
   "metadata": {},
   "outputs": [
    {
     "data": {
      "text/plain": [
       "Text(0.5, 1.0, 'Diff of Avg between Sex')"
      ]
     },
     "execution_count": 554,
     "metadata": {},
     "output_type": "execute_result"
    },
    {
     "data": {
      "image/png": "[encoded data removed]",
      "text/plain": [
       "<Figure size 432x288 with 1 Axes>"
      ]
     },
     "metadata": {
      "needs_background": "light"
     },
     "output_type": "display_data"
    }
   ],
   "source": [
    "# cg=pd.read_csv('data/LTRC/LTRC_cg.txt',sep='\\t',header=0,index_col=None)\n",
    "BD=pd.read_csv('data/LTRC/BD_BCaMi-BCaFi.txt',sep='\\t',header=0,index_col=None)\n",
    "BND=pd.read_csv('data/LTRC/BND_BCoMi-BCoFi.txt',sep='\\t',header=0,index_col=None)\n",
    "g=sns.distplot(np.log(BD.values),kde=True,hist=True,rug=False,label='Disease Blood')\n",
    "b=sns.distplot(np.log(BND.values),kde=True,hist=True,rug=False,label='No Disease Blood')\n",
    "\n",
    "LD=pd.read_csv('data/LTRC/LD_LCaMi-LCaFi.txt',sep='\\t',header=0,index_col=None)\n",
    "LND=pd.read_csv('data/LTRC/LND_LCoMi-LCoFi.txt',sep='\\t',header=0,index_col=None)\n",
    "g=sns.distplot(np.log(LD.values),kde=True,hist=True,rug=False,label='Disease Lung')\n",
    "b=sns.distplot(np.log(LND.values),kde=True,hist=True,rug=False,label='No Disease Lung')\n",
    "plt.legend(loc='best')\n",
    "# plt.xlabel('Log Diff')\n",
    "plt.title('Diff of Avg between Sex')"
   ]
  },
  {
   "cell_type": "code",
   "execution_count": null,
   "metadata": {},
   "outputs": [],
   "source": []
  },
  {
   "cell_type": "code",
   "execution_count": null,
   "metadata": {},
   "outputs": [],
   "source": []
  },
  {
   "cell_type": "markdown",
   "metadata": {},
   "source": [
    "# crazy person counting of nothing"
   ]
  },
  {
   "cell_type": "code",
   "execution_count": 90,
   "metadata": {},
   "outputs": [
    {
     "data": {
      "text/plain": [
       "(array([555.,   0.,   0., 283.,   0.,   0., 492.,   0.,   0., 279.]),\n",
       " array([0. , 0.3, 0.6, 0.9, 1.2, 1.5, 1.8, 2.1, 2.4, 2.7, 3. ]),\n",
       " <BarContainer object of 10 artists>)"
      ]
     },
     "execution_count": 90,
     "metadata": {},
     "output_type": "execute_result"
    },
    {
     "data": {
      "image/png": "[encoded data removed]",
      "text/plain": [
       "<Figure size 432x288 with 1 Axes>"
      ]
     },
     "metadata": {
      "needs_background": "light"
     },
     "output_type": "display_data"
    }
   ],
   "source": [
    "## perhaps 2 or multiple entries so figure out how to check and count that\n",
    "\n",
    "# sum(pheno_agr['Project'].str.contains(pat='blood')) \n",
    "\n",
    "# df_out = pheno_agr.assign(**pheno_agr.assigned_to.apply(pd.Series))\n",
    "# print(df_out)\n",
    "c=pheno_agr['Project'].tolist()\n",
    "cc=pheno_agr['Project'].str.split(' ').str[0:10].tolist()#.count('blood')\n",
    "cc=pd.DataFrame(cc)\n",
    "plt.hist(cc[0])"
   ]
  },
  {
   "cell_type": "code",
   "execution_count": 106,
   "metadata": {},
   "outputs": [
    {
     "data": {
      "text/html": [
       "<div>\n",
       "<style scoped>\n",
       "    .dataframe tbody tr th:only-of-type {\n",
       "        vertical-align: middle;\n",
       "    }\n",
       "\n",
       "    .dataframe tbody tr th {\n",
       "        vertical-align: top;\n",
       "    }\n",
       "\n",
       "    .dataframe thead th {\n",
       "        text-align: right;\n",
       "    }\n",
       "</style>\n",
       "<table border=\"1\" class=\"dataframe\">\n",
       "  <thead>\n",
       "    <tr style=\"text-align: right;\">\n",
       "      <th></th>\n",
       "      <th>Project</th>\n",
       "      <th>saphId.cdnm</th>\n",
       "      <th>sampleId.cdnm</th>\n",
       "      <th>topmedId</th>\n",
       "    </tr>\n",
       "    <tr>\n",
       "      <th>patid</th>\n",
       "      <th></th>\n",
       "      <th></th>\n",
       "      <th></th>\n",
       "      <th></th>\n",
       "    </tr>\n",
       "  </thead>\n",
       "  <tbody>\n",
       "    <tr>\n",
       "      <th>11059</th>\n",
       "      <td>RNASeq Methylation.lung Methylation.blood Meth...</td>\n",
       "      <td>ST-01028405 ST-01028405 ST-01028405 ST-0102840...</td>\n",
       "      <td>S-001714087 S-001714099 S-001671928 S-00167192...</td>\n",
       "      <td>TOR327827 TOE601320 TOE245252 TOE245252 NWD596...</td>\n",
       "    </tr>\n",
       "    <tr>\n",
       "      <th>11061</th>\n",
       "      <td>RNASeq Methylation.lung Methylation.blood Meth...</td>\n",
       "      <td>ST-01028308 ST-01028308 ST-01028308 ST-0102830...</td>\n",
       "      <td>S-001714093 S-001714105 S-001672013 S-00167201...</td>\n",
       "      <td>TOR223247 TOE932381 TOE791336 TOE791336 NWD354...</td>\n",
       "    </tr>\n",
       "    <tr>\n",
       "      <th>11062</th>\n",
       "      <td>RNASeq Methylation.lung WGS WGS</td>\n",
       "      <td>ST-01028309 ST-01028309 ST-01028309 ST-01028309</td>\n",
       "      <td>S-001724195 S-001724207 S-001671881 S-001671881</td>\n",
       "      <td>TOR516260 TOE922491 NWD534804 NWD534804</td>\n",
       "    </tr>\n",
       "    <tr>\n",
       "      <th>11063</th>\n",
       "      <td>RNASeq Methylation.lung Methylation.blood Meth...</td>\n",
       "      <td>ST-01028374 ST-01028374 ST-01028374 ST-0102837...</td>\n",
       "      <td>S-001709030 S-001709042 S-001787696 S-00178769...</td>\n",
       "      <td>TOR986540 TOE471791 TOE987079 TOE987079 NWD190...</td>\n",
       "    </tr>\n",
       "    <tr>\n",
       "      <th>11066</th>\n",
       "      <td>RNASeq Methylation.lung WGS WGS</td>\n",
       "      <td>ST-01027073 ST-01027073 ST-01027073 ST-01027073</td>\n",
       "      <td>S-001710904 S-001710916 S-001660476 S-001660476</td>\n",
       "      <td>TOR398405 TOE262256 NWD725468 NWD725468</td>\n",
       "    </tr>\n",
       "    <tr>\n",
       "      <th>...</th>\n",
       "      <td>...</td>\n",
       "      <td>...</td>\n",
       "      <td>...</td>\n",
       "      <td>...</td>\n",
       "    </tr>\n",
       "    <tr>\n",
       "      <th>803493</th>\n",
       "      <td>Methylation.blood Methylation.blood Methylatio...</td>\n",
       "      <td>ST-01027367 ST-01027367 ST-01027367 ST-0102736...</td>\n",
       "      <td>S-001660472 S-001660472 S-001660472 S-00166047...</td>\n",
       "      <td>TOE165090 TOE165090 TOE113581 TOE113581 NWD983...</td>\n",
       "    </tr>\n",
       "    <tr>\n",
       "      <th>803503</th>\n",
       "      <td>RNASeq Methylation.lung Methylation.blood Meth...</td>\n",
       "      <td>ST-01028671 ST-01028671 ST-01028671 ST-0102867...</td>\n",
       "      <td>S-001718132 S-001718144 S-001674907 S-00167490...</td>\n",
       "      <td>TOR758673 TOE276392 TOE508162 TOE508162 NWD976...</td>\n",
       "    </tr>\n",
       "    <tr>\n",
       "      <th>803520</th>\n",
       "      <td>RNASeq Methylation.lung WGS WGS</td>\n",
       "      <td>ST-01028672 ST-01028672 ST-01028672 ST-01028672</td>\n",
       "      <td>S-001684407 S-001684419 S-001674908 S-001674908</td>\n",
       "      <td>TOR245408 TOE957388 NWD611927 NWD611927</td>\n",
       "    </tr>\n",
       "    <tr>\n",
       "      <th>803546</th>\n",
       "      <td>WGS WGS RNASeq Methylation.lung</td>\n",
       "      <td>ST-01028673 ST-01028673 ST-01028673 ST-01028673</td>\n",
       "      <td>S-001674909 S-001674909 S-001747459 S-001718073</td>\n",
       "      <td>NWD369280 NWD369280 TOR420538 TOE712658</td>\n",
       "    </tr>\n",
       "    <tr>\n",
       "      <th>803589</th>\n",
       "      <td>WGS WGS Methylation.lung RNASeq</td>\n",
       "      <td>ST-01028674 ST-01028674 ST-01028674 ST-01028674</td>\n",
       "      <td>S-001674910 S-001674910 S-001711779 S-001711767</td>\n",
       "      <td>NWD741154 NWD741154 TOE151884 TOR255774</td>\n",
       "    </tr>\n",
       "  </tbody>\n",
       "</table>\n",
       "<p>1601 rows × 4 columns</p>\n",
       "</div>"
      ],
      "text/plain": [
       "                                                  Project  \\\n",
       "patid                                                       \n",
       "11059   RNASeq Methylation.lung Methylation.blood Meth...   \n",
       "11061   RNASeq Methylation.lung Methylation.blood Meth...   \n",
       "11062                     RNASeq Methylation.lung WGS WGS   \n",
       "11063   RNASeq Methylation.lung Methylation.blood Meth...   \n",
       "11066                     RNASeq Methylation.lung WGS WGS   \n",
       "...                                                   ...   \n",
       "803493  Methylation.blood Methylation.blood Methylatio...   \n",
       "803503  RNASeq Methylation.lung Methylation.blood Meth...   \n",
       "803520                    RNASeq Methylation.lung WGS WGS   \n",
       "803546                    WGS WGS RNASeq Methylation.lung   \n",
       "803589                    WGS WGS Methylation.lung RNASeq   \n",
       "\n",
       "                                              saphId.cdnm  \\\n",
       "patid                                                       \n",
       "11059   ST-01028405 ST-01028405 ST-01028405 ST-0102840...   \n",
       "11061   ST-01028308 ST-01028308 ST-01028308 ST-0102830...   \n",
       "11062     ST-01028309 ST-01028309 ST-01028309 ST-01028309   \n",
       "11063   ST-01028374 ST-01028374 ST-01028374 ST-0102837...   \n",
       "11066     ST-01027073 ST-01027073 ST-01027073 ST-01027073   \n",
       "...                                                   ...   \n",
       "803493  ST-01027367 ST-01027367 ST-01027367 ST-0102736...   \n",
       "803503  ST-01028671 ST-01028671 ST-01028671 ST-0102867...   \n",
       "803520    ST-01028672 ST-01028672 ST-01028672 ST-01028672   \n",
       "803546    ST-01028673 ST-01028673 ST-01028673 ST-01028673   \n",
       "803589    ST-01028674 ST-01028674 ST-01028674 ST-01028674   \n",
       "\n",
       "                                            sampleId.cdnm  \\\n",
       "patid                                                       \n",
       "11059   S-001714087 S-001714099 S-001671928 S-00167192...   \n",
       "11061   S-001714093 S-001714105 S-001672013 S-00167201...   \n",
       "11062     S-001724195 S-001724207 S-001671881 S-001671881   \n",
       "11063   S-001709030 S-001709042 S-001787696 S-00178769...   \n",
       "11066     S-001710904 S-001710916 S-001660476 S-001660476   \n",
       "...                                                   ...   \n",
       "803493  S-001660472 S-001660472 S-001660472 S-00166047...   \n",
       "803503  S-001718132 S-001718144 S-001674907 S-00167490...   \n",
       "803520    S-001684407 S-001684419 S-001674908 S-001674908   \n",
       "803546    S-001674909 S-001674909 S-001747459 S-001718073   \n",
       "803589    S-001674910 S-001674910 S-001711779 S-001711767   \n",
       "\n",
       "                                                 topmedId  \n",
       "patid                                                      \n",
       "11059   TOR327827 TOE601320 TOE245252 TOE245252 NWD596...  \n",
       "11061   TOR223247 TOE932381 TOE791336 TOE791336 NWD354...  \n",
       "11062             TOR516260 TOE922491 NWD534804 NWD534804  \n",
       "11063   TOR986540 TOE471791 TOE987079 TOE987079 NWD190...  \n",
       "11066             TOR398405 TOE262256 NWD725468 NWD725468  \n",
       "...                                                   ...  \n",
       "803493  TOE165090 TOE165090 TOE113581 TOE113581 NWD983...  \n",
       "803503  TOR758673 TOE276392 TOE508162 TOE508162 NWD976...  \n",
       "803520            TOR245408 TOE957388 NWD611927 NWD611927  \n",
       "803546            NWD369280 NWD369280 TOR420538 TOE712658  \n",
       "803589            NWD741154 NWD741154 TOE151884 TOR255774  \n",
       "\n",
       "[1601 rows x 4 columns]"
      ]
     },
     "execution_count": 106,
     "metadata": {},
     "output_type": "execute_result"
    }
   ],
   "source": [
    "pheno_agr[pheno_agr['Project'].str.contains(pat='Methylation.lung')]\n"
   ]
  },
  {
   "cell_type": "code",
   "execution_count": 99,
   "metadata": {},
   "outputs": [
    {
     "data": {
      "text/plain": [
       "(array([1639.,    0.,    0., 1874.,    0.,    0., 3071.,    0.,    0.,\n",
       "        2613.]),\n",
       " array([0. , 0.3, 0.6, 0.9, 1.2, 1.5, 1.8, 2.1, 2.4, 2.7, 3. ]),\n",
       " <BarContainer object of 10 artists>)"
      ]
     },
     "execution_count": 99,
     "metadata": {},
     "output_type": "execute_result"
    },
    {
     "data": {
      "image/png": "[encoded data removed]",
      "text/plain": [
       "<Figure size 432x288 with 1 Axes>"
      ]
     },
     "metadata": {
      "needs_background": "light"
     },
     "output_type": "display_data"
    }
   ],
   "source": [
    "plt.hist(pheno.Project)"
   ]
  },
  {
   "cell_type": "code",
   "execution_count": 102,
   "metadata": {},
   "outputs": [
    {
     "data": {
      "text/plain": [
       "1609"
      ]
     },
     "execution_count": 102,
     "metadata": {},
     "output_type": "execute_result"
    }
   ],
   "source": [
    "len(pd.unique(pheno.patid))"
   ]
  },
  {
   "cell_type": "code",
   "execution_count": 103,
   "metadata": {},
   "outputs": [
    {
     "data": {
      "text/plain": [
       "9197"
      ]
     },
     "execution_count": 103,
     "metadata": {},
     "output_type": "execute_result"
    }
   ],
   "source": [
    "len(pheno)"
   ]
  },
  {
   "cell_type": "code",
   "execution_count": null,
   "metadata": {},
   "outputs": [],
   "source": []
  },
  {
   "cell_type": "code",
   "execution_count": null,
   "metadata": {},
   "outputs": [],
   "source": []
  }
 ],
 "metadata": {
  "kernelspec": {
   "display_name": "MyEnv3",
   "language": "python",
   "name": "myenv3"
  },
  "language_info": {
   "codemirror_mode": {
    "name": "ipython",
    "version": 3
   },
   "file_extension": ".py",
   "mimetype": "text/x-python",
   "name": "python",
   "nbconvert_exporter": "python",
   "pygments_lexer": "ipython3",
   "version": "3.7.9"
  }
 },
 "nbformat": 4,
 "nbformat_minor": 2
}
